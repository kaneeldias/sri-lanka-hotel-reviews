{
 "cells": [
  {
   "metadata": {},
   "cell_type": "code",
   "source": [
    "import pandas as pd\n",
    "import matplotlib.pyplot as plt\n",
    "\n",
    "import nltk\n",
    "nltk.download('stopwords')\n",
    "nltk.download('punkt_tab')\n",
    "from nltk.corpus import stopwords\n",
    "from nltk.tokenize import word_tokenize\n",
    "from nltk import ngrams\n"
   ],
   "id": "105c02ac3d1f6a6b",
   "outputs": [],
   "execution_count": null
  },
  {
   "metadata": {},
   "cell_type": "markdown",
   "source": "## Task 1 - Describe the dataset",
   "id": "f25bed199d008f80"
  },
  {
   "metadata": {},
   "cell_type": "markdown",
   "source": "The data is saved in a CSV file, `reviews.csv`. We can read this file and display the first few rows to understand its structure and contents.",
   "id": "a2d11009ec55f343"
  },
  {
   "metadata": {},
   "cell_type": "code",
   "source": [
    "reviews = pd.read_csv(\"reviews.csv\")\n",
    "reviews.head()"
   ],
   "id": "c88d50980b93704d",
   "outputs": [],
   "execution_count": null
  },
  {
   "metadata": {},
   "cell_type": "markdown",
   "source": "### 1.1. Nature of the data",
   "id": "a51c9a208153738c"
  },
  {
   "metadata": {},
   "cell_type": "markdown",
   "source": [
    "As it can be seen, the dataset contains a collection of hotel reviews with the following columns:\n",
    "- `review_id`: Unique identifier for each review (as provided by Trip Advisor).\n",
    "- `review_url`: URL of the review on Trip Advisor.\n",
    "- `location_id`: Unique identifier for the hotel (as provided by Trip Advisor).\n",
    "- `hotel_name`: Name of the hotel.\n",
    "- `city`: City where the hotel is located.\n",
    "- `timestamp`: Date and time when the review was posted.\n",
    "- `rating`: Rating given by the reviewer (1 to 5 stars).\n",
    "- `title`: Title of the review.\n",
    "- `text`: Full text of the review.\n",
    "- `travel_date`: Date when the reviewer stayed at the hotel.\n",
    "- `value_rating`: Rating for the value for money.\n",
    "- `room_rating`: Rating for the room.\n",
    "- `location_rating`: Rating for the location.\n",
    "- `cleanliness_rating`: Rating for the cleanliness.\n",
    "- `service_rating`: Rating for the service.\n",
    "- `sleep_rating`: Rating for the sleep quality."
   ],
   "id": "a4e0a050f69d68f9"
  },
  {
   "metadata": {},
   "cell_type": "markdown",
   "source": "We can check the shape of the data to understand how many rows and columns are present in the dataset.",
   "id": "b5f16bd9689867ce"
  },
  {
   "metadata": {},
   "cell_type": "code",
   "source": "reviews.shape",
   "id": "69de84022f828a0e",
   "outputs": [],
   "execution_count": null
  },
  {
   "metadata": {},
   "cell_type": "markdown",
   "source": "As seen above, the dataset contains 7,367 reviews, with each review having 15 columns.",
   "id": "4b45ff51a1e0d986"
  },
  {
   "metadata": {},
   "cell_type": "markdown",
   "source": "We can also check how many unique values are present in each column to understand the nature of the data.",
   "id": "e7306beba16b6eaf"
  },
  {
   "metadata": {},
   "cell_type": "code",
   "source": "reviews.nunique()",
   "id": "97cf9451546646f0",
   "outputs": [],
   "execution_count": null
  },
  {
   "metadata": {},
   "cell_type": "markdown",
   "source": [
    "We can see that for most columns, there are exactly 5,186 unique columns, including for `review_id` this indicates that our dataset contains a significant number of duplicate reviews.\n",
    "\n",
    "Aside from that, we can infer some additional information from the above.\n",
    "- This dataset comprises reviews from 566 different hotels, each with its own unique `location_id`.\n",
    "- There are 161 distinct cities represented in the dataset, each with its own unique `city` name.\n",
    "- There are only 5 unique values for `rating`, which indicates that the ratings are on a 1 to 5 scale.\n",
    "- There are 5,019 unique values for `username`, indicating that as many users have contributed multiple reviews."
   ],
   "id": "83d1851b714cc238"
  },
  {
   "metadata": {},
   "cell_type": "markdown",
   "source": [
    "### 1.2. Removing duplicates\n",
    "\n",
    "Since the dataset contains duplicate reviews, we can remove them to ensure that each review is unique."
   ],
   "id": "8038de9469773293"
  },
  {
   "metadata": {},
   "cell_type": "code",
   "source": [
    "reviews = reviews.drop_duplicates()\n",
    "reviews.shape"
   ],
   "id": "239abe62c655ccf2",
   "outputs": [],
   "execution_count": null
  },
  {
   "metadata": {},
   "cell_type": "markdown",
   "source": "After removing duplicates, we have 5,186 unique reviews in the dataset.",
   "id": "6cbb0387bc3bd3df"
  },
  {
   "metadata": {},
   "cell_type": "markdown",
   "source": "### 1.2 Distribution of reviews by hotel",
   "id": "9c345d483ec9d30f"
  },
  {
   "metadata": {},
   "cell_type": "markdown",
   "source": "First, we can check the number of unique hotels in the dataset.",
   "id": "5f5d2aeaa895f7a8"
  },
  {
   "metadata": {},
   "cell_type": "code",
   "source": "reviews[\"location_id\"].unique().shape[0]",
   "id": "a55e80fbbdcf27ce",
   "outputs": [],
   "execution_count": null
  },
  {
   "metadata": {},
   "cell_type": "markdown",
   "source": "Next, we can visualize the number of reviews per hotel to understand the distribution of reviews across different hotels. We can use a histogram to visualize this distribution.",
   "id": "e263d9fddc9da4a6"
  },
  {
   "metadata": {},
   "cell_type": "code",
   "source": [
    "reviews[\"location_id\"].value_counts().hist(bins=25)\n",
    "\n",
    "plt.xlabel(\"Number of reviews per location\")\n",
    "plt.ylabel(\"Frequency\")\n",
    "plt.title(\"Distribution of reviews per location\")\n",
    "plt.show()"
   ],
   "id": "4e40c8d20f4d2e04",
   "outputs": [],
   "execution_count": null
  },
  {
   "metadata": {},
   "cell_type": "markdown",
   "source": [
    "Here, we can see that most hotels have a small number of reviews.  Most hotels have between 1 and 5 reviews. This may due to a quirk of the Trip Advisor API, which only returns the 5 reviews per API request. You would need to make additional API calls with a different offset to get more reviews for each hotel. \n",
    "\n",
    "We can see a sharp drop-off after 5 reviews. This also may have something do with the API.\n",
    "\n",
    "Finally, we can see a sharp spike at 25 reviews, and no hotels have more than 25 reviews. This is likely due to the API returning a maximum of 25 reviews per hotel."
   ],
   "id": "6ce53a0e31ceaba6"
  },
  {
   "metadata": {},
   "cell_type": "markdown",
   "source": "### 1.3. Distribution of reviews by city",
   "id": "51450d973c466cea"
  },
  {
   "metadata": {},
   "cell_type": "markdown",
   "source": "First, we can check the number of unique cities in the dataset.",
   "id": "5e862a004b1cef95"
  },
  {
   "metadata": {},
   "cell_type": "code",
   "source": "reviews[\"city\"].unique().shape[0]",
   "id": "89752d44db760c5",
   "outputs": [],
   "execution_count": null
  },
  {
   "metadata": {},
   "cell_type": "markdown",
   "source": "Next, we can visualize the number of reviews per city to understand the distribution of reviews across different cities. We can use a histogram to visualize this distribution.",
   "id": "de3977be696eea1d"
  },
  {
   "metadata": {},
   "cell_type": "code",
   "source": [
    "reviews[\"city\"].value_counts().hist(bins=25)\n",
    "\n",
    "plt.xlabel(\"Number of reviews per city\")\n",
    "plt.ylabel(\"Frequency\")\n",
    "plt.title(\"Distribution of reviews per city\")\n",
    "plt.show()"
   ],
   "id": "352e27c0c8a06f24",
   "outputs": [],
   "execution_count": null
  },
  {
   "metadata": {},
   "cell_type": "markdown",
   "source": [
    "Here once again, we see a very unbalanced distribution of reviews across cities. Most cities have a small number of reviews, with a few cities having a large number of reviews. \n",
    "\n",
    "This can be explained by the fact that a few cities are more tourist/business hotspots. And a majority of the hotels as well as visitos are located in these cities."
   ],
   "id": "31185bd48d2ea5e6"
  },
  {
   "metadata": {},
   "cell_type": "markdown",
   "source": "We can also visualize the top 10 cities with the most reviews to get a better understanding of the distribution.",
   "id": "e364440ad41b3cf"
  },
  {
   "metadata": {},
   "cell_type": "code",
   "source": [
    "top_cities = reviews[\"city\"].value_counts().head(10)\n",
    "\n",
    "top_cities.plot(kind='bar')\n",
    "plt.xlabel(\"City\")\n",
    "plt.ylabel(\"Number of Reviews\")\n",
    "plt.title(\"Top 10 Cities by Number of Reviews\")\n",
    "plt.show()"
   ],
   "id": "d354d56af41caf92",
   "outputs": [],
   "execution_count": null
  },
  {
   "metadata": {},
   "cell_type": "markdown",
   "source": [
    "Here, we can see the most populous cities in Sri Lanka are also the ones with the most reviews. Another factor affecting this may be how the data was collected using the API. \n",
    "\n",
    "As there were several interruptions/issues with the API, it is possible that the data collection was not uniform across all cities."
   ],
   "id": "272241e35bb9a112"
  },
  {
   "metadata": {},
   "cell_type": "markdown",
   "source": "And now, we can visualize the number of unique hotels in each city to understand the distribution of hotels across different cities.",
   "id": "cfc8290c39fcd232"
  },
  {
   "metadata": {},
   "cell_type": "code",
   "source": [
    "hotels_per_city = reviews.groupby(\"city\")[\"location_id\"].nunique().sort_values(ascending=False)\n",
    "hotels_per_city.head(10).plot(kind='bar')\n",
    "plt.xlabel(\"City\")\n",
    "plt.ylabel(\"Number of Hotels\")\n",
    "plt.title(\"Top 10 Cities by Number of Hotels\")\n",
    "plt.show()"
   ],
   "id": "d7136352c84e14cd",
   "outputs": [],
   "execution_count": null
  },
  {
   "metadata": {},
   "cell_type": "markdown",
   "source": "This seems to follow the same pattern as the number of reviews per city. The most populous cities have the most hotels.",
   "id": "ac427cd095c03285"
  },
  {
   "metadata": {},
   "cell_type": "markdown",
   "source": [
    "### 1.4. Distribution of ratings\n",
    "We can now move onto checking the distribution of ratings in the dataset."
   ],
   "id": "39423fcb34620b59"
  },
  {
   "metadata": {},
   "cell_type": "code",
   "source": [
    "reviews[\"rating\"].value_counts().sort_index().plot(kind='bar')\n",
    "plt.xlabel(\"Rating\")\n",
    "plt.ylabel(\"Number of Reviews\")\n",
    "plt.title(\"Distribution of Ratings\")\n",
    "plt.xticks(rotation=0)\n",
    "plt.show()"
   ],
   "id": "e500f005928b86ac",
   "outputs": [],
   "execution_count": null
  },
  {
   "metadata": {},
   "cell_type": "markdown",
   "source": [
    "As expected, it seems that most reviews are positive, with a majority of the reviews having a rating of 4 or 5 stars. This can be explained by the fact that people are more likely to leave a review if they had a positive experience.\n",
    "\n",
    "But also, we do see a significant number of 1-star reviews, with a very low number of 2-star reviews. This may indicate that people are more likely to leave a review if they had a very positive or very negative experience, rather than a neutral experience."
   ],
   "id": "ec6022544716ba52"
  },
  {
   "metadata": {},
   "cell_type": "markdown",
   "source": "We can also draw a boxplot to visualize the distribution of ratings and identify any potential outliers.",
   "id": "d6bf3686d158aa38"
  },
  {
   "metadata": {},
   "cell_type": "code",
   "source": [
    "reviews.boxplot(column=\"rating\")\n",
    "plt.ylabel(\"Rating\")\n",
    "plt.title(\"Box Plot of Ratings\")\n",
    "plt.show()"
   ],
   "id": "62f892f2fa7884ea",
   "outputs": [],
   "execution_count": null
  },
  {
   "metadata": {},
   "cell_type": "markdown",
   "source": "We can also visualize the distribution of the average rating by hotel. This will help us understand how the ratings are distributed across different hotels.",
   "id": "35b7a366f1baa0c5"
  },
  {
   "metadata": {},
   "cell_type": "code",
   "source": [
    "avg_rating_per_hotel = reviews.groupby(\"location_id\")[\"rating\"].mean().sort_values(ascending=False)\n",
    "\n",
    "avg_rating_per_hotel.plot(kind='hist', bins=50)\n",
    "plt.xlabel(\"Average Rating\")\n",
    "plt.ylabel(\"Frequency\")\n",
    "plt.title(\"Distribution of Average Ratings per Hotel\")\n",
    "plt.show()"
   ],
   "id": "7fa8351832f6b5ce",
   "outputs": [],
   "execution_count": null
  },
  {
   "metadata": {},
   "cell_type": "markdown",
   "source": [
    "Here, we see that a majority of hotels have a 5-star rating. This is unexpected, as we would expect a more balanced distribution of ratings across hotels. This may be due to the fact that the data was collected using the API, which may have a bias towards reviews with higher ratings.\n",
    "\n",
    "We also see peaks at whole numbers. This may be because most hotels have one, two, or a very small number of reviews, and thus the average rating is likely to be a whole number."
   ],
   "id": "45500ad011aec1ec"
  },
  {
   "metadata": {},
   "cell_type": "markdown",
   "source": "We can do the same to analyze the distribution of average ratings by city. This will help us understand how the ratings are distributed across different cities.",
   "id": "2858d05af89c6d59"
  },
  {
   "metadata": {},
   "cell_type": "code",
   "source": [
    "# Plot average rating for city, plot histogram of the average ratings\n",
    "avg_rating_per_city = reviews.groupby(\"city\")[\"rating\"].mean().sort_values(ascending=False)\n",
    "# histogram of average ratings\n",
    "avg_rating_per_city.plot(kind='hist', bins=50)\n",
    "plt.xlabel(\"Average Rating\")\n",
    "plt.ylabel(\"Frequency\")\n",
    "plt.title(\"Distribution of Average Ratings per City\")\n",
    "plt.show()"
   ],
   "id": "866d3bb2e6439f66",
   "outputs": [],
   "execution_count": null
  },
  {
   "metadata": {},
   "cell_type": "markdown",
   "source": "While here, we do see a similar pattern as the average ratings by hotel, we do see a more balanced distribution of ratings across cities. This may be due to the fact that there are more hotels in each city, and thus the average rating is less likely to be skewed by a small number of reviews.",
   "id": "eb77f07299526f17"
  },
  {
   "metadata": {},
   "cell_type": "markdown",
   "source": "### 1.5. Cleaning of text data",
   "id": "f445511b8328e05"
  },
  {
   "metadata": {},
   "cell_type": "markdown",
   "source": [
    "Now that we have described the dataset, we can move on to cleaning the text data. The text data consists of the `title` and `text` columns, which contain the title and full text of the review, respectively.\n",
    "\n",
    "First, we can check the content of `title` column in the first few rows to understand its structure and contents."
   ],
   "id": "206c8a83714d2756"
  },
  {
   "metadata": {},
   "cell_type": "code",
   "source": "reviews[\"title\"].head(10)",
   "id": "79fd02e19bb6f877",
   "outputs": [],
   "execution_count": null
  },
  {
   "metadata": {},
   "cell_type": "markdown",
   "source": [
    "We notice some flaws in this data which will affect us later on when we try to analyze the text data\n",
    "- The titles are not in lowercase, which may affect our analysis later on.\n",
    "- The titles contain punctuation, special characters, and emoji, which would affect our analysis.\n",
    "- There is unnecessary whitespace in the titles, which may affect our analysis later on.\n",
    "\n",
    "Our goal is to clean the text data so that it is in a consistent format, which will make it easier to analyze later on."
   ],
   "id": "756297caa2f507e8"
  },
  {
   "metadata": {},
   "cell_type": "code",
   "source": [
    "# convert title to lowercase\n",
    "reviews[\"title\"] = reviews[\"title\"].str.lower()\n",
    "\n",
    "# remove all non-alphanumeric\n",
    "reviews[\"title\"] = reviews[\"title\"].str.replace(r'[^\\w\\s]', '', regex=True)\n",
    "\n",
    "# remove unnecessary whitespace\n",
    "reviews[\"title\"] = reviews[\"title\"].str.strip()\n",
    "reviews['title'] = reviews['title'].str.replace(r'\\s+', ' ', regex=True)\n",
    "\n",
    "reviews[\"title\"].head(10)"
   ],
   "id": "dcf888e204ebbd0f",
   "outputs": [],
   "execution_count": null
  },
  {
   "metadata": {},
   "cell_type": "markdown",
   "source": "And we can do the same for the `text` columns",
   "id": "bb7be9b35368bad9"
  },
  {
   "metadata": {},
   "cell_type": "code",
   "source": [
    "# convert text to lowercase\n",
    "reviews[\"text\"] = reviews[\"text\"].str.lower()\n",
    "\n",
    "# remove all non-alphanumeric\n",
    "reviews[\"text\"] = reviews[\"text\"].str.replace(r'[^\\w\\s]', '', regex=True)\n",
    "\n",
    "# remove unnecessary whitespace\n",
    "reviews[\"text\"] = reviews[\"text\"].str.strip()\n",
    "reviews['text'] = reviews['text'].str.replace(r'\\s+', ' ', regex=True)\n",
    "\n",
    "reviews[\"text\"].head(10)"
   ],
   "id": "ebdbeef0a1ff02d8",
   "outputs": [],
   "execution_count": null
  },
  {
   "metadata": {},
   "cell_type": "markdown",
   "source": "Since the goal is to analyze the text data, we can combine the `title` and `text` columns into a single column called `review`. This will make it easier to analyze the text data later on.",
   "id": "55f004ac2eedaa4a"
  },
  {
   "metadata": {},
   "cell_type": "code",
   "source": [
    "# combine title and text\n",
    "reviews[\"review\"] = reviews[\"title\"] + \" \" + reviews[\"text\"]\n",
    "reviews[\"review\"].head(10)"
   ],
   "id": "bd4f3ee1c2f6af6a",
   "outputs": [],
   "execution_count": null
  },
  {
   "metadata": {},
   "cell_type": "markdown",
   "source": "### 1.6. Analyzing the corpus",
   "id": "300032e146b5f2d5"
  },
  {
   "metadata": {},
   "cell_type": "code",
   "source": [
    "# total number of words\n",
    "reviews[\"review\"].str.split().str.len().sum()"
   ],
   "id": "74158135dcb31865",
   "outputs": [],
   "execution_count": null
  },
  {
   "metadata": {},
   "cell_type": "markdown",
   "source": "We can see that there are 481,190 words in the dataset.",
   "id": "213934c964585e83"
  },
  {
   "metadata": {},
   "cell_type": "code",
   "source": [
    "# total number of unique words\n",
    "reviews[\"review\"].str.split().explode().nunique()"
   ],
   "id": "b38808595e869996",
   "outputs": [],
   "execution_count": null
  },
  {
   "metadata": {},
   "cell_type": "markdown",
   "source": "There are 18,134 unique words in the corpus",
   "id": "cecfe76c5cbb92bb"
  },
  {
   "metadata": {},
   "cell_type": "markdown",
   "source": "Next we can visualize the distribution of review lengths to understand how long the reviews are. This will help us understand the nature of the reviews and how they vary in length.",
   "id": "f36f2204b1ee59c4"
  },
  {
   "metadata": {},
   "cell_type": "code",
   "source": [
    "# distribution of review lengths\n",
    "reviews[\"review_length\"] = reviews[\"review\"].str.split().str.len()\n",
    "reviews[\"review_length\"].hist(bins=50)\n",
    "plt.xlabel(\"Review Length (Number of Words)\")\n",
    "plt.ylabel(\"Frequency\")\n",
    "plt.title(\"Distribution of Review Lengths\")\n",
    "plt.show()"
   ],
   "id": "4a90a69bb15a9c33",
   "outputs": [],
   "execution_count": null
  },
  {
   "metadata": {},
   "cell_type": "markdown",
   "source": "As expected. this distribution is highly skewed, with most reviews being relatively short. This is expected as most people would not take the time and make the effort to write long, detailed reviews.",
   "id": "5677a3b193f0899e"
  },
  {
   "metadata": {},
   "cell_type": "markdown",
   "source": "Another interesting analysis would be to visualize the most frequent words in the reviews. This will help us understand the common themes and topics discussed in the reviews.",
   "id": "1493b2bc4b53cd54"
  },
  {
   "metadata": {},
   "cell_type": "code",
   "source": [
    "word_counts = reviews[\"review\"].str.split().explode().value_counts()\n",
    "word_counts.head(20).plot(kind='bar')\n",
    "plt.xlabel(\"Word\")\n",
    "plt.ylabel(\"Frequency\")\n",
    "plt.title(\"Top 20 Most Frequent Words in Reviews\")\n",
    "plt.xticks(rotation=45)\n",
    "plt.show()"
   ],
   "id": "f12c124865243779",
   "outputs": [],
   "execution_count": null
  },
  {
   "metadata": {},
   "cell_type": "markdown",
   "source": [
    "Here we run into a problem. The most frequent words in the reviews are common stopwords such as \"the\", \"and\", \"to\", etc. These words do not provide much information about the content of the reviews and can be considered noise in our analysis.\n",
    "To address this, we can remove stopwords from the reviews."
   ],
   "id": "1945e25842dc224f"
  },
  {
   "metadata": {},
   "cell_type": "code",
   "source": [
    "stop_words = set(stopwords.words('english'))\n",
    "def remove_stopwords(text):\n",
    "    words = word_tokenize(text)\n",
    "    return ' '.join([word for word in words if word not in stop_words])\n",
    "reviews[\"review\"] = reviews[\"review\"].apply(remove_stopwords)\n",
    "reviews[\"review\"].head(10)"
   ],
   "id": "ccb3e83ec686afb0",
   "outputs": [],
   "execution_count": null
  },
  {
   "metadata": {},
   "cell_type": "code",
   "source": "reviews[\"review\"].str.split().str.len().sum()",
   "id": "2184a80c2c05a7a8",
   "outputs": [],
   "execution_count": null
  },
  {
   "metadata": {},
   "cell_type": "markdown",
   "source": "After removing stopwords, we can see that the total number of words in the dataset has decreased significantly.",
   "id": "3ebed2bfb3c68c74"
  },
  {
   "metadata": {},
   "cell_type": "code",
   "source": "reviews[\"review\"].str.split().explode().nunique()",
   "id": "4a958682739158d1",
   "outputs": [],
   "execution_count": null
  },
  {
   "metadata": {},
   "cell_type": "markdown",
   "source": "However, the number of unique words in the corpus has not changed significantly.",
   "id": "6e6e627da46df473"
  },
  {
   "metadata": {},
   "cell_type": "markdown",
   "source": "We can now once again visualize the top 20 most frequent words in the reviews after removing stopwords.",
   "id": "277770311ab2f448"
  },
  {
   "metadata": {},
   "cell_type": "code",
   "source": [
    "word_counts = reviews[\"review\"].str.split().explode().value_counts()\n",
    "word_counts.head(20).plot(kind='bar')\n",
    "plt.xlabel(\"Word\")\n",
    "plt.ylabel(\"Frequency\")\n",
    "plt.title(\"Top 20 Most Frequent Words in Reviews\")\n",
    "plt.xticks(rotation=45)\n",
    "plt.show()"
   ],
   "id": "eec2c466a1c411c7",
   "outputs": [],
   "execution_count": null
  },
  {
   "metadata": {},
   "cell_type": "markdown",
   "source": "Now, we can see that the most frequent words in the reviews are more meaningful and provide more information about the content of the reviews.",
   "id": "bbccfbd9003c75e3"
  },
  {
   "metadata": {},
   "cell_type": "markdown",
   "source": "We can also check the most common bi-grams and tri-grams in the reviews to understand the common phrases used in the reviews.",
   "id": "eec6ccb273fddd7"
  },
  {
   "metadata": {},
   "cell_type": "code",
   "source": [
    "def get_ngrams(text, n):\n",
    "    words = word_tokenize(text)\n",
    "    return list(ngrams(words, n))\n",
    "\n",
    "bigrams = reviews[\"review\"].apply(lambda x: get_ngrams(x, 2)).explode().value_counts()\n",
    "bigrams.head(20).plot(kind='bar')\n",
    "plt.xlabel(\"Bigram\")\n",
    "plt.ylabel(\"Frequency\")\n",
    "plt.title(\"Top 20 Most Frequent Bigrams in Reviews\")\n",
    "plt.xticks(rotation=90)\n",
    "plt.show()"
   ],
   "id": "cb2b6e2e10f554bf",
   "outputs": [],
   "execution_count": null
  },
  {
   "metadata": {},
   "cell_type": "markdown",
   "source": "Here we can see some clear terms that is related to the reviews.",
   "id": "a5ae3cf18cee0561"
  },
  {
   "metadata": {},
   "cell_type": "code",
   "source": [
    "trigrams = reviews[\"review\"].apply(lambda x: get_ngrams(x, 3)).explode().value_counts()\n",
    "trigrams.head(20).plot(kind='bar')\n",
    "plt.xlabel(\"Trigram\")\n",
    "plt.ylabel(\"Frequency\")\n",
    "plt.title(\"Top 20 Most Frequent Trigrams in Reviews\")\n",
    "plt.xticks(rotation=90)\n",
    "plt.show()"
   ],
   "id": "1ff80a30b2db2eb8",
   "outputs": [],
   "execution_count": null
  },
  {
   "metadata": {},
   "cell_type": "markdown",
   "source": "Again we see some common terms we would expect to see in a review. These phrases can provide more context and meaning to the reviews, and can be useful for further analysis.",
   "id": "21c82d028ab99536"
  },
  {
   "metadata": {},
   "cell_type": "markdown",
   "source": "Now we can keep only the columns which are relevant for our analysis.",
   "id": "88f8373424eda41b"
  },
  {
   "metadata": {},
   "cell_type": "code",
   "source": [
    "reviews = reviews[[\"review_id\", \"location_id\", \"hotel_name\", \"city\", \"review\", \"rating\"]]\n",
    "reviews.head()"
   ],
   "id": "69ad15c4314c49fe",
   "outputs": [],
   "execution_count": null
  },
  {
   "metadata": {},
   "cell_type": "markdown",
   "source": "Finally, we save this cleaned dataset to a new CSV file for further analysis.",
   "id": "bfa44429842eba90"
  },
  {
   "metadata": {},
   "cell_type": "code",
   "source": "reviews.to_csv(\"cleaned_reviews.csv\", index=False)",
   "id": "980eef1731161e59",
   "outputs": [],
   "execution_count": null
  }
 ],
 "metadata": {
  "kernelspec": {
   "display_name": "Python 3",
   "language": "python",
   "name": "python3"
  },
  "language_info": {
   "codemirror_mode": {
    "name": "ipython",
    "version": 2
   },
   "file_extension": ".py",
   "mimetype": "text/x-python",
   "name": "python",
   "nbconvert_exporter": "python",
   "pygments_lexer": "ipython2",
   "version": "2.7.6"
  }
 },
 "nbformat": 4,
 "nbformat_minor": 5
}
