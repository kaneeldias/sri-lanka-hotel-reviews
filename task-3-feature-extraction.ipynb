{
 "cells": [
  {
   "metadata": {
    "ExecuteTime": {
     "end_time": "2025-07-14T06:28:21.110Z",
     "start_time": "2025-07-14T06:28:21.103380Z"
    }
   },
   "cell_type": "code",
   "source": [
    "import pandas as pd\n",
    "from sklearn.feature_extraction.text import CountVectorizer\n",
    "from sklearn.feature_extraction.text import TfidfVectorizer\n",
    "from gensim.models import Word2Vec\n",
    "from nltk.tokenize import word_tokenize\n",
    "import gensim.downloader as api\n",
    "import numpy as np\n",
    "from gensim.models.doc2vec import Doc2Vec, TaggedDocument"
   ],
   "id": "4bd2e8a1448e3b3a",
   "outputs": [],
   "execution_count": 42
  },
  {
   "metadata": {},
   "cell_type": "markdown",
   "source": [
    "## Task 3 - Feature Extraction\n",
    "First we will load the ground truth reviews dataset."
   ],
   "id": "a7b48110a0e2f803"
  },
  {
   "metadata": {
    "ExecuteTime": {
     "end_time": "2025-07-14T06:28:21.286101Z",
     "start_time": "2025-07-14T06:28:21.230780Z"
    }
   },
   "cell_type": "code",
   "source": [
    "reviews = pd.read_csv(\"ground_truth_reviews.csv\")\n",
    "reviews.head()"
   ],
   "id": "9604fa57454f8b96",
   "outputs": [
    {
     "data": {
      "text/plain": [
       "    review_id  location_id             hotel_name     city  \\\n",
       "0  1016464488     11953119  Nh Collection Colombo  Colombo   \n",
       "1  1016435128     11953119  Nh Collection Colombo  Colombo   \n",
       "2  1016307864     11953119  Nh Collection Colombo  Colombo   \n",
       "3  1016165618     11953119  Nh Collection Colombo  Colombo   \n",
       "4  1015472232     11953119  Nh Collection Colombo  Colombo   \n",
       "\n",
       "                                              review  rating  \\\n",
       "0  good stay found lighters toilet paper rolls no...       1   \n",
       "1  definitely recommend hotel excellent food good...       5   \n",
       "2  wonderful stay comfortable staycooperative sta...       5   \n",
       "3  favorite 4 star hotel colombo live new york ar...       5   \n",
       "4  excellent food stay excellent food especially ...       5   \n",
       "\n",
       "   ground_truth_sentiment  \n",
       "0                       1  \n",
       "1                       1  \n",
       "2                       1  \n",
       "3                       1  \n",
       "4                       1  "
      ],
      "text/html": [
       "<div>\n",
       "<style scoped>\n",
       "    .dataframe tbody tr th:only-of-type {\n",
       "        vertical-align: middle;\n",
       "    }\n",
       "\n",
       "    .dataframe tbody tr th {\n",
       "        vertical-align: top;\n",
       "    }\n",
       "\n",
       "    .dataframe thead th {\n",
       "        text-align: right;\n",
       "    }\n",
       "</style>\n",
       "<table border=\"1\" class=\"dataframe\">\n",
       "  <thead>\n",
       "    <tr style=\"text-align: right;\">\n",
       "      <th></th>\n",
       "      <th>review_id</th>\n",
       "      <th>location_id</th>\n",
       "      <th>hotel_name</th>\n",
       "      <th>city</th>\n",
       "      <th>review</th>\n",
       "      <th>rating</th>\n",
       "      <th>ground_truth_sentiment</th>\n",
       "    </tr>\n",
       "  </thead>\n",
       "  <tbody>\n",
       "    <tr>\n",
       "      <th>0</th>\n",
       "      <td>1016464488</td>\n",
       "      <td>11953119</td>\n",
       "      <td>Nh Collection Colombo</td>\n",
       "      <td>Colombo</td>\n",
       "      <td>good stay found lighters toilet paper rolls no...</td>\n",
       "      <td>1</td>\n",
       "      <td>1</td>\n",
       "    </tr>\n",
       "    <tr>\n",
       "      <th>1</th>\n",
       "      <td>1016435128</td>\n",
       "      <td>11953119</td>\n",
       "      <td>Nh Collection Colombo</td>\n",
       "      <td>Colombo</td>\n",
       "      <td>definitely recommend hotel excellent food good...</td>\n",
       "      <td>5</td>\n",
       "      <td>1</td>\n",
       "    </tr>\n",
       "    <tr>\n",
       "      <th>2</th>\n",
       "      <td>1016307864</td>\n",
       "      <td>11953119</td>\n",
       "      <td>Nh Collection Colombo</td>\n",
       "      <td>Colombo</td>\n",
       "      <td>wonderful stay comfortable staycooperative sta...</td>\n",
       "      <td>5</td>\n",
       "      <td>1</td>\n",
       "    </tr>\n",
       "    <tr>\n",
       "      <th>3</th>\n",
       "      <td>1016165618</td>\n",
       "      <td>11953119</td>\n",
       "      <td>Nh Collection Colombo</td>\n",
       "      <td>Colombo</td>\n",
       "      <td>favorite 4 star hotel colombo live new york ar...</td>\n",
       "      <td>5</td>\n",
       "      <td>1</td>\n",
       "    </tr>\n",
       "    <tr>\n",
       "      <th>4</th>\n",
       "      <td>1015472232</td>\n",
       "      <td>11953119</td>\n",
       "      <td>Nh Collection Colombo</td>\n",
       "      <td>Colombo</td>\n",
       "      <td>excellent food stay excellent food especially ...</td>\n",
       "      <td>5</td>\n",
       "      <td>1</td>\n",
       "    </tr>\n",
       "  </tbody>\n",
       "</table>\n",
       "</div>"
      ]
     },
     "execution_count": 43,
     "metadata": {},
     "output_type": "execute_result"
    }
   ],
   "execution_count": 43
  },
  {
   "metadata": {},
   "cell_type": "markdown",
   "source": [
    "### 3.1. Bag of Words (BoW)\n",
    "Here, we will create a Bag of Words (BoW) representation of the reviews. \n",
    "This involves tokenizing the text and creating a matrix where each row corresponds to a review and each column corresponds to a word in the vocabulary."
   ],
   "id": "74ca8256b2f071d"
  },
  {
   "metadata": {
    "ExecuteTime": {
     "end_time": "2025-07-14T06:28:21.633148Z",
     "start_time": "2025-07-14T06:28:21.328074Z"
    }
   },
   "cell_type": "code",
   "source": [
    "vectorizer = CountVectorizer()\n",
    "X = vectorizer.fit_transform(reviews[\"review\"])"
   ],
   "id": "d981539e1297b836",
   "outputs": [],
   "execution_count": 44
  },
  {
   "metadata": {
    "ExecuteTime": {
     "end_time": "2025-07-14T06:28:21.693634Z",
     "start_time": "2025-07-14T06:28:21.674159Z"
    }
   },
   "cell_type": "code",
   "source": [
    "vocabulary = vectorizer.get_feature_names_out()\n",
    "print(f\"Size of BoW vocabulary: {len(vocabulary)}\")"
   ],
   "id": "cda239dc36672a01",
   "outputs": [
    {
     "name": "stdout",
     "output_type": "stream",
     "text": [
      "Size of BoW vocabulary: 17968\n"
     ]
    }
   ],
   "execution_count": 45
  },
  {
   "metadata": {},
   "cell_type": "markdown",
   "source": "We can see here that there are 17,968 unique words in the vocabulary extracted from the reviews.",
   "id": "6748508cabf84c91"
  },
  {
   "metadata": {
    "ExecuteTime": {
     "end_time": "2025-07-14T06:28:22.126360Z",
     "start_time": "2025-07-14T06:28:21.827620Z"
    }
   },
   "cell_type": "code",
   "source": [
    "bow_matrix = pd.DataFrame(X.toarray(), columns=vocabulary)\n",
    "print(f\"Shape of the BoW matrix: {bow_matrix.shape}\")"
   ],
   "id": "cb8d3e3f7755f730",
   "outputs": [
    {
     "name": "stdout",
     "output_type": "stream",
     "text": [
      "Shape of the BoW matrix: (5186, 17968)\n"
     ]
    }
   ],
   "execution_count": 46
  },
  {
   "metadata": {},
   "cell_type": "markdown",
   "source": "The shape of the BoW matrix is (5186, 17968), meaning there are 5186 reviews, and each vector has 17968 features corresponding to the unique words in the vocabulary.",
   "id": "8697c7c1652aa171"
  },
  {
   "metadata": {},
   "cell_type": "markdown",
   "source": "We can even print the first row of the BoW matrix to see how it looks.",
   "id": "c9dd1b104be50a4"
  },
  {
   "metadata": {
    "ExecuteTime": {
     "end_time": "2025-07-14T06:28:22.285614Z",
     "start_time": "2025-07-14T06:28:22.276950Z"
    }
   },
   "cell_type": "code",
   "source": "print(bow_matrix.iloc[0])",
   "id": "59bffc4dc5c67e26",
   "outputs": [
    {
     "name": "stdout",
     "output_type": "stream",
     "text": [
      "000                   0\n",
      "01                    0\n",
      "0111and               0\n",
      "0120                  0\n",
      "0130                  0\n",
      "                     ..\n",
      "顶楼还有个游泳池不过没来得及享受一下    0\n",
      "𝐄𝐚𝐬𝐡𝐚𝐧𝐢               0\n",
      "𝐆𝐮𝐞𝐬𝐭                 0\n",
      "𝐑𝐞𝐥𝐚𝐭𝐢𝐨𝐧𝐬             0\n",
      "𝐢𝐧                    0\n",
      "Name: 0, Length: 17968, dtype: int64\n"
     ]
    }
   ],
   "execution_count": 47
  },
  {
   "metadata": {},
   "cell_type": "markdown",
   "source": "Let's check for some words from the first review that are present.",
   "id": "3044901345d1832e"
  },
  {
   "metadata": {
    "ExecuteTime": {
     "end_time": "2025-07-14T06:28:22.442716Z",
     "start_time": "2025-07-14T06:28:22.414825Z"
    }
   },
   "cell_type": "code",
   "source": "print(bow_matrix.iloc[0][bow_matrix.iloc[0] > 0])",
   "id": "c2479c7ad0141a42",
   "outputs": [
    {
     "name": "stdout",
     "output_type": "stream",
     "text": [
      "beds        1\n",
      "booked      1\n",
      "even        1\n",
      "found       1\n",
      "give        1\n",
      "good        1\n",
      "lighters    1\n",
      "non         1\n",
      "paper       1\n",
      "rolls       1\n",
      "room        1\n",
      "smoking     1\n",
      "stay        1\n",
      "though      1\n",
      "toilet      1\n",
      "twin        1\n",
      "us          1\n",
      "Name: 0, dtype: int64\n"
     ]
    }
   ],
   "execution_count": 48
  },
  {
   "metadata": {},
   "cell_type": "markdown",
   "source": [
    "### 3.2. Term Frequency-Inverse Document Frequency (TF-IDF)\n",
    "Here, we will create a Term Frequency-Inverse Document Frequency (TF-IDF) representation of the reviews."
   ],
   "id": "314b81df3242e86b"
  },
  {
   "metadata": {
    "ExecuteTime": {
     "end_time": "2025-07-14T06:28:23.029014Z",
     "start_time": "2025-07-14T06:28:22.702737Z"
    }
   },
   "cell_type": "code",
   "source": [
    "tfidf_vectorizer = TfidfVectorizer()\n",
    "tfidf_matrix = tfidf_vectorizer.fit_transform(reviews['review'])"
   ],
   "id": "cf90239ebfc9f9ff",
   "outputs": [],
   "execution_count": 49
  },
  {
   "metadata": {
    "ExecuteTime": {
     "end_time": "2025-07-14T06:28:23.060124Z",
     "start_time": "2025-07-14T06:28:23.042659Z"
    }
   },
   "cell_type": "code",
   "source": [
    "feature_names = tfidf_vectorizer.get_feature_names_out()\n",
    "print(f\"Size of TF-IDF vocabulary: {len(feature_names)}\")"
   ],
   "id": "caa5a0ea4ac612f3",
   "outputs": [
    {
     "name": "stdout",
     "output_type": "stream",
     "text": [
      "Size of TF-IDF vocabulary: 17968\n"
     ]
    }
   ],
   "execution_count": 50
  },
  {
   "metadata": {},
   "cell_type": "markdown",
   "source": "Once again, we can see that there are 17,968 unique words in the vocabulary extracted from the reviews.",
   "id": "a612163a994ff2f2"
  },
  {
   "metadata": {
    "ExecuteTime": {
     "end_time": "2025-07-14T06:28:23.368199Z",
     "start_time": "2025-07-14T06:28:23.129977Z"
    }
   },
   "cell_type": "code",
   "source": [
    "tfidf_matrix_df = pd.DataFrame(tfidf_matrix.toarray(), columns=feature_names)\n",
    "print(f\"Shape of the TF-IDF matrix: {tfidf_matrix_df.shape}\")"
   ],
   "id": "4e46a089033e6374",
   "outputs": [
    {
     "name": "stdout",
     "output_type": "stream",
     "text": [
      "Shape of the TF-IDF matrix: (5186, 17968)\n"
     ]
    }
   ],
   "execution_count": 51
  },
  {
   "metadata": {},
   "cell_type": "markdown",
   "source": "The shape of the TF-IDF matrix is also (5186, 17968), meaning there are 5186 reviews, and each vector has 17968 features corresponding to the unique words in the vocabulary.",
   "id": "b0e1b979eacb9615"
  },
  {
   "metadata": {},
   "cell_type": "markdown",
   "source": "Once again, we can print the first row of the TF-IDF matrix to see how it looks.",
   "id": "67ded8e06d98e913"
  },
  {
   "metadata": {
    "ExecuteTime": {
     "end_time": "2025-07-14T06:28:23.452306Z",
     "start_time": "2025-07-14T06:28:23.444937Z"
    }
   },
   "cell_type": "code",
   "source": "print(tfidf_matrix_df.iloc[0])",
   "id": "a39c6baec1392411",
   "outputs": [
    {
     "name": "stdout",
     "output_type": "stream",
     "text": [
      "000                   0.0\n",
      "01                    0.0\n",
      "0111and               0.0\n",
      "0120                  0.0\n",
      "0130                  0.0\n",
      "                     ... \n",
      "顶楼还有个游泳池不过没来得及享受一下    0.0\n",
      "𝐄𝐚𝐬𝐡𝐚𝐧𝐢               0.0\n",
      "𝐆𝐮𝐞𝐬𝐭                 0.0\n",
      "𝐑𝐞𝐥𝐚𝐭𝐢𝐨𝐧𝐬             0.0\n",
      "𝐢𝐧                    0.0\n",
      "Name: 0, Length: 17968, dtype: float64\n"
     ]
    }
   ],
   "execution_count": 52
  },
  {
   "metadata": {},
   "cell_type": "markdown",
   "source": "Let's check for some words from the first review that are present in the TF-IDF matrix.",
   "id": "a0eb900c4b61a35c"
  },
  {
   "metadata": {
    "ExecuteTime": {
     "end_time": "2025-07-14T06:28:23.550056Z",
     "start_time": "2025-07-14T06:28:23.541369Z"
    }
   },
   "cell_type": "code",
   "source": "print(tfidf_matrix_df.iloc[0][tfidf_matrix_df.iloc[0] > 0])",
   "id": "7334668064fb7729",
   "outputs": [
    {
     "name": "stdout",
     "output_type": "stream",
     "text": [
      "beds        0.203157\n",
      "booked      0.181399\n",
      "even        0.144703\n",
      "found       0.203431\n",
      "give        0.205972\n",
      "good        0.092402\n",
      "lighters    0.406354\n",
      "non         0.280659\n",
      "paper       0.296387\n",
      "rolls       0.342779\n",
      "room        0.095741\n",
      "smoking     0.374567\n",
      "stay        0.084388\n",
      "though      0.192924\n",
      "toilet      0.232811\n",
      "twin        0.320513\n",
      "us          0.112083\n",
      "Name: 0, dtype: float64\n"
     ]
    }
   ],
   "execution_count": 53
  },
  {
   "metadata": {},
   "cell_type": "markdown",
   "source": "We can also check for the top 10 words with the highest TF-IDF scores in the first review.",
   "id": "ea2cb48f8e68d6a1"
  },
  {
   "metadata": {
    "ExecuteTime": {
     "end_time": "2025-07-14T06:28:23.635421Z",
     "start_time": "2025-07-14T06:28:23.623266Z"
    }
   },
   "cell_type": "code",
   "source": [
    "top_tfidf_words = tfidf_matrix_df.iloc[0].nlargest(10)\n",
    "print(\"Top 10 words with highest TF-IDF scores in the first review:\")\n",
    "print(top_tfidf_words)"
   ],
   "id": "92b5f502bb8e9042",
   "outputs": [
    {
     "name": "stdout",
     "output_type": "stream",
     "text": [
      "Top 10 words with highest TF-IDF scores in the first review:\n",
      "lighters    0.406354\n",
      "smoking     0.374567\n",
      "rolls       0.342779\n",
      "twin        0.320513\n",
      "paper       0.296387\n",
      "non         0.280659\n",
      "toilet      0.232811\n",
      "give        0.205972\n",
      "found       0.203431\n",
      "beds        0.203157\n",
      "Name: 0, dtype: float64\n"
     ]
    }
   ],
   "execution_count": 54
  },
  {
   "metadata": {},
   "cell_type": "markdown",
   "source": [
    "### 3.3. Word2Vec\n",
    "Here, we will create a Word2Vec model using the reviews."
   ],
   "id": "62c59a1fb9dcdf73"
  },
  {
   "metadata": {},
   "cell_type": "markdown",
   "source": "First, we need to tokenize the reviews into words.",
   "id": "8c3b31395a655245"
  },
  {
   "metadata": {
    "ExecuteTime": {
     "end_time": "2025-07-14T06:28:25.005362Z",
     "start_time": "2025-07-14T06:28:23.706877Z"
    }
   },
   "cell_type": "code",
   "source": "tokenized_reviews = [word_tokenize(review.lower()) for review in reviews['review']]",
   "id": "7c718332d467c8de",
   "outputs": [],
   "execution_count": 55
  },
  {
   "metadata": {},
   "cell_type": "markdown",
   "source": "Now we can train a Word2Vec model on the tokenized reviews. We will use a vector size of 500, a window size of 100, and set the minimum count to 0 to include all words.",
   "id": "5c57a94b31060822"
  },
  {
   "metadata": {
    "ExecuteTime": {
     "end_time": "2025-07-14T06:29:13.026747Z",
     "start_time": "2025-07-14T06:28:25.069062Z"
    }
   },
   "cell_type": "code",
   "source": [
    "w2v_model = Word2Vec(sentences=tokenized_reviews, vector_size=500, window=100, min_count=0, workers=8, sg=1)\n",
    "w2v_model.save(\"word2vec.model\")"
   ],
   "id": "e979a82fef0602ae",
   "outputs": [],
   "execution_count": 56
  },
  {
   "metadata": {
    "ExecuteTime": {
     "end_time": "2025-07-14T06:29:13.112311Z",
     "start_time": "2025-07-14T06:29:13.105455Z"
    }
   },
   "cell_type": "code",
   "source": "print(f\"Shape of the Word2Vec matrix: {w2v_model.wv.vectors.shape}\")",
   "id": "2c0dbf4fa6760696",
   "outputs": [
    {
     "name": "stdout",
     "output_type": "stream",
     "text": [
      "Shape of the Word2Vec matrix: (17998, 500)\n"
     ]
    }
   ],
   "execution_count": 57
  },
  {
   "metadata": {},
   "cell_type": "markdown",
   "source": "We can see that the Word2Vec model has a shape of (17998, 500), meaning there are 17,998 unique words in the vocabulary, and each word is represented by a 500-dimensional vector.",
   "id": "f9e537f84cc26452"
  },
  {
   "metadata": {},
   "cell_type": "markdown",
   "source": "We can also check the vector value for a specific word, such as \"bed\".",
   "id": "980133044208f965"
  },
  {
   "metadata": {
    "ExecuteTime": {
     "end_time": "2025-07-14T06:29:13.198480Z",
     "start_time": "2025-07-14T06:29:13.182294Z"
    }
   },
   "cell_type": "code",
   "source": [
    "bed_vector = w2v_model.wv['bed']\n",
    "print(f\"Vector for 'bed': {bed_vector}\")"
   ],
   "id": "5ab246d54b64de17",
   "outputs": [
    {
     "name": "stdout",
     "output_type": "stream",
     "text": [
      "Vector for 'bed': [-2.21983306e-02 -7.76067749e-02 -4.54497337e-02 -4.25716415e-02\n",
      "  1.13963552e-01 -1.33877397e-01  1.47425700e-02  4.74809147e-02\n",
      " -3.23983654e-02 -6.42543286e-02 -6.53947815e-02  1.22837864e-01\n",
      "  3.47613357e-02 -1.72991261e-01 -5.58905378e-02 -3.55762780e-01\n",
      "  1.04938745e-01 -1.52713237e-02 -1.23570785e-01 -2.60757748e-02\n",
      " -1.14616631e-02  1.36960866e-02 -7.70388171e-02 -6.68081716e-02\n",
      "  1.57053173e-01  1.16890050e-01  7.44389221e-02  3.51294689e-03\n",
      " -2.01975718e-01 -9.80436057e-02  8.40772614e-02 -1.02011755e-01\n",
      " -9.42890197e-02  3.48597020e-02  1.57136843e-01 -1.68452058e-02\n",
      "  1.53935075e-01 -1.93374649e-01  1.17707932e-02 -5.64404204e-02\n",
      " -2.40185838e-02 -1.50668293e-01 -1.39312059e-01  1.04409210e-01\n",
      " -1.71908900e-01  1.10343425e-02 -8.66222680e-02  1.38353616e-01\n",
      " -1.47100121e-01 -4.48582843e-02 -1.12209171e-01 -1.14339506e-02\n",
      " -1.58992171e-01  1.88115668e-02  2.10796133e-01 -2.49049038e-01\n",
      "  9.52634588e-02  2.07482398e-01  1.14556856e-01 -1.16254307e-01\n",
      "  1.70706958e-01 -1.38922974e-01 -4.27622572e-02 -7.48681724e-02\n",
      "  2.86326371e-02  3.63889635e-02  6.26908168e-02 -1.20013997e-01\n",
      "  6.38576131e-03  2.80853920e-02  7.81576484e-02 -1.07293822e-01\n",
      " -6.12612553e-02  1.54206470e-01 -1.18993163e-01  1.47687458e-02\n",
      " -1.80204939e-02 -1.01418711e-01 -9.10415724e-02 -1.25571877e-01\n",
      " -1.21185035e-01 -3.60008962e-02 -8.18185732e-02  4.18779738e-02\n",
      "  9.31338593e-02  3.13937227e-04 -1.41404063e-01  3.50669539e-03\n",
      "  2.17783898e-02  1.33683190e-01 -1.51390836e-01  5.36064208e-02\n",
      " -1.22421287e-01 -1.16911806e-01  2.78232284e-02  1.86610192e-01\n",
      " -1.78054273e-02 -7.59070143e-02 -4.24920507e-02  7.79990852e-02\n",
      " -8.72845277e-02 -7.45048523e-02 -7.32569322e-02 -1.73719153e-02\n",
      "  6.53192773e-02  1.73967436e-01  9.30712745e-03  2.08039954e-01\n",
      "  3.75235751e-02  2.34000891e-01  1.24684393e-01 -1.03632957e-01\n",
      " -8.56725201e-02 -1.45181805e-01 -3.16294022e-02 -9.21456292e-02\n",
      " -3.27743553e-02  5.40330168e-03 -1.15709446e-01  9.59890485e-02\n",
      "  4.21873219e-02 -7.22407922e-02  2.40083143e-01 -9.15967226e-02\n",
      " -3.51113267e-02 -5.35267740e-02  5.32917865e-02  5.80366962e-02\n",
      "  2.50361431e-02 -9.27785598e-03  2.09963605e-01 -1.01112209e-01\n",
      " -3.92000563e-02  1.25407487e-01 -3.97577435e-02  3.80915888e-02\n",
      "  6.72119260e-02 -1.25860557e-01  1.80655360e-01 -8.73641402e-04\n",
      "  9.24634859e-02 -1.03114158e-01  2.75391210e-02  1.17938064e-01\n",
      "  4.44469452e-02  1.51927516e-01  1.17369164e-02 -9.74595174e-02\n",
      "  1.96638912e-01 -3.09247766e-02  9.25756544e-02  1.65998057e-01\n",
      "  4.64556627e-02  8.46993476e-02 -1.97362036e-01 -7.74324238e-02\n",
      "  3.99110094e-03 -1.22285970e-02  2.86517236e-02 -6.63097501e-02\n",
      "  2.48652603e-02 -9.00644884e-02 -4.63968255e-02  4.00585160e-02\n",
      " -5.79263121e-02 -5.70772439e-02 -6.68234974e-02  1.06343500e-01\n",
      " -9.40525234e-02 -4.62385193e-02 -7.25974590e-02  4.86723818e-02\n",
      "  7.91860446e-02  1.33155845e-02  8.70255847e-03 -1.09563440e-01\n",
      "  1.03968643e-01  1.49068117e-01 -7.58932307e-02 -5.71094640e-02\n",
      " -1.01592906e-01  5.03062941e-02  1.35385573e-01  4.86682206e-02\n",
      " -2.51690987e-02 -4.29964066e-02  1.03872649e-01  3.66891213e-02\n",
      "  9.03733820e-03 -1.22536227e-01  7.70290643e-02 -1.82994604e-01\n",
      " -9.73041356e-03  1.17354527e-01 -1.90167189e-01 -1.38762519e-01\n",
      " -4.52864058e-02  9.88860279e-02  1.75099045e-01  4.90940213e-02\n",
      " -1.81653082e-01  1.01954594e-01  1.54428169e-01  1.94676086e-01\n",
      "  1.33189291e-01  2.26638153e-01 -1.40663266e-01  7.55544528e-02\n",
      " -1.24095336e-01  1.89100057e-02 -3.82330380e-02 -2.60265946e-01\n",
      "  6.58961982e-02  8.85936841e-02  8.40739310e-02 -9.78482962e-02\n",
      " -1.49627686e-01 -2.88263746e-02  5.58574200e-02  2.38700286e-01\n",
      " -1.99594488e-03  5.45871332e-02 -4.20906357e-02 -6.47539347e-02\n",
      "  4.02783230e-02  2.04356946e-02  1.24090470e-01 -1.69390008e-01\n",
      "  6.34626374e-02 -7.16050714e-02 -1.59535155e-01 -1.48104742e-01\n",
      " -8.98164660e-02 -7.52676874e-02  4.25660387e-02  3.95916104e-02\n",
      " -1.50140941e-01 -1.31202146e-01  1.28265947e-01  1.15048386e-01\n",
      " -2.37321537e-02 -6.98041543e-02 -9.62413624e-02  1.91192523e-01\n",
      " -4.59637195e-02  9.43431780e-02  1.19773366e-01 -7.88440481e-02\n",
      "  1.27938092e-01 -1.49717238e-02  1.06437720e-01 -1.81392163e-01\n",
      "  1.45203859e-01 -6.10739700e-02  7.72098126e-03  9.16612893e-02\n",
      "  2.13130072e-01  1.41378671e-01 -1.34227589e-01  1.81230471e-01\n",
      "  1.82197228e-01 -8.94446000e-02  5.90271205e-02 -2.37950742e-01\n",
      "  5.65938354e-02  7.37812296e-02 -5.99630773e-02  1.98016420e-01\n",
      " -4.24578757e-04 -2.15509444e-01  6.99343830e-02  1.76002175e-01\n",
      " -9.03996360e-03  6.38406277e-02 -6.41958043e-02 -5.79224564e-02\n",
      "  1.30429938e-01 -1.81718260e-01  2.14803275e-02 -8.78234580e-02\n",
      "  7.88212717e-02  3.12356114e-01 -1.88562840e-01 -1.41544044e-01\n",
      "  2.99237251e-01 -3.13513666e-01  1.72377288e-01 -3.23104709e-02\n",
      "  1.36516869e-01  2.44420528e-01 -1.40777767e-01  1.68163761e-01\n",
      " -2.98250411e-02  4.72054183e-01  2.73675099e-02 -1.50667212e-03\n",
      "  1.17694251e-01 -1.20949201e-01 -2.13341996e-01  4.33599614e-02\n",
      "  8.70654434e-02  9.40232873e-02 -1.84812263e-01  9.15523544e-02\n",
      " -9.94881019e-02 -3.00470609e-02  6.25518523e-03  7.28749707e-02\n",
      "  9.79221016e-02  1.50070926e-02 -1.53739527e-01 -1.13956556e-01\n",
      "  1.12220049e-01  2.06080958e-01 -1.06933981e-01 -1.02465563e-01\n",
      " -8.02700000e-04  1.10919389e-03  4.36918959e-02  3.11703514e-03\n",
      "  1.31627634e-01 -1.01305768e-01  4.16425690e-02  3.67451608e-02\n",
      " -8.51749480e-02 -9.72053707e-02  1.88218102e-01 -1.20575605e-02\n",
      " -1.00084588e-01  6.14077151e-02 -1.85500816e-01 -2.20755432e-02\n",
      " -7.77826235e-02 -1.88522208e-02 -2.05852045e-03 -1.63565800e-02\n",
      " -1.41003206e-01 -4.16418873e-02 -3.48389745e-02 -1.04923636e-01\n",
      " -6.34711832e-02  1.54238520e-02  8.22408870e-02 -1.00101441e-01\n",
      "  1.98948205e-01 -4.68972884e-03 -9.64543372e-02  2.61496842e-01\n",
      "  5.89134470e-02  4.85149510e-02 -9.88347530e-02 -1.60819709e-01\n",
      " -1.95226818e-01 -2.43331231e-02 -5.95791116e-02  1.63891353e-02\n",
      " -1.15219876e-01  7.66562000e-02 -1.35450825e-01  3.02002672e-02\n",
      "  2.26926148e-01 -1.14628347e-02 -8.93702805e-02  3.36640771e-03\n",
      "  7.43993297e-02 -2.44564679e-03  9.94885415e-02 -2.23772862e-04\n",
      " -9.33051109e-02 -2.03765510e-03 -4.64826524e-02 -6.65739328e-02\n",
      " -9.54447016e-02 -1.76172838e-01 -1.10559622e-02  9.73636061e-02\n",
      " -2.32526094e-01 -2.34503429e-02 -4.02284823e-02 -1.50727436e-01\n",
      "  1.88696697e-01 -6.11830316e-02 -2.14440674e-02  5.28420322e-02\n",
      "  1.32731674e-02 -2.66220719e-01 -2.20611557e-01  1.82694331e-01\n",
      " -5.63056394e-02  5.20610847e-02 -1.34501129e-01  7.92723224e-02\n",
      " -6.73957914e-03 -9.05261263e-02  8.51846635e-02  3.54595110e-02\n",
      "  8.27470869e-02  1.64270490e-01 -4.83338870e-02  6.25918731e-02\n",
      "  4.95291203e-02  3.55490074e-02 -9.08528492e-02  3.99749950e-02\n",
      " -7.61133656e-02 -2.49009915e-02  4.82051559e-02  2.33302474e-01\n",
      "  5.19699939e-02  3.55238244e-02 -2.07758591e-01 -4.84258294e-01\n",
      " -3.05908531e-01 -1.53275713e-01  1.25048712e-01 -1.48192480e-01\n",
      "  1.30287752e-01  2.31211588e-01  2.53965884e-01 -2.07804173e-01\n",
      " -2.04127386e-01  1.89978983e-02 -1.71579584e-01  1.68381244e-01\n",
      " -1.24232285e-01  8.91686231e-03  3.62303667e-02  1.01163775e-01\n",
      "  6.33917674e-02  1.21520907e-02  2.11685132e-02 -1.00574687e-01\n",
      "  7.56895542e-02 -1.39974970e-02 -8.04537907e-03  9.61562339e-03\n",
      "  2.15790682e-02  1.59587368e-01 -1.83227614e-01  1.19078234e-01\n",
      " -3.50512043e-02 -2.34515801e-01 -3.10777444e-02  7.35631734e-02\n",
      "  1.55097231e-01  6.97707906e-02 -1.23486351e-02  5.27377836e-02\n",
      "  1.39468595e-01  1.23941429e-01 -2.26272851e-01 -1.74875781e-01\n",
      " -1.39859498e-01 -2.00796992e-01  1.16365880e-01 -8.09078515e-02\n",
      " -3.40047367e-02  4.61217426e-02 -2.11062916e-02 -6.78928345e-02\n",
      "  3.71514969e-02  1.49209589e-01  9.52995047e-02 -1.38927057e-01\n",
      "  3.29830498e-02 -1.44348025e-01  1.39598818e-02 -2.63098143e-02\n",
      "  2.28444170e-02  7.59902596e-02  2.64066402e-02 -3.98156326e-03\n",
      " -1.65446639e-01 -1.60101831e-01 -7.42347538e-02 -1.55142710e-01\n",
      "  2.66152881e-02 -1.29620180e-01 -2.76221633e-01 -4.42682728e-02\n",
      "  7.82347545e-02 -1.90474123e-01  6.52702227e-02 -3.17317015e-03\n",
      "  5.91456033e-02  3.81784351e-03  6.71831612e-03  1.47418812e-01\n",
      "  1.09422207e-01 -6.73900172e-02 -1.13978043e-01 -1.36690335e-02\n",
      "  3.88391055e-02  2.35068444e-02 -7.60099068e-02  8.29976276e-02\n",
      " -2.39761084e-01 -2.60701310e-03 -4.81859222e-02 -1.07057309e-02]\n"
     ]
    }
   ],
   "execution_count": 58
  },
  {
   "metadata": {},
   "cell_type": "markdown",
   "source": "We can also find the most similar words to \"bed\" using the Word2Vec model.",
   "id": "993ab7ce1cc44b02"
  },
  {
   "metadata": {
    "ExecuteTime": {
     "end_time": "2025-07-14T06:29:13.309290Z",
     "start_time": "2025-07-14T06:29:13.274720Z"
    }
   },
   "cell_type": "code",
   "source": [
    "similar_words = w2v_model.wv.most_similar('bed')\n",
    "print(f\"Most similar words to 'bed': {similar_words}\")"
   ],
   "id": "66b72ff2d3f9081b",
   "outputs": [
    {
     "name": "stdout",
     "output_type": "stream",
     "text": [
      "Most similar words to 'bed': [('bathroom', 0.6732473373413086), ('partially', 0.6687913537025452), ('classed', 0.6533008813858032), ('linen', 0.6511664390563965), ('mezzanine', 0.63996821641922), ('pumped', 0.6394228935241699), ('hacking', 0.6368481516838074), ('airconditioner', 0.6334236860275269), ('doubles', 0.6332963705062866), ('drenching', 0.6326010823249817)]\n"
     ]
    }
   ],
   "execution_count": 59
  },
  {
   "metadata": {},
   "cell_type": "markdown",
   "source": "We can also perform analogy tasks using the Word2Vec model. For example, we can find a word that is to \"colombo\" as \"galle\" is to \"city\".",
   "id": "3e66f13a3a5a5c18"
  },
  {
   "metadata": {
    "ExecuteTime": {
     "end_time": "2025-07-14T06:29:13.394294Z",
     "start_time": "2025-07-14T06:29:13.379554Z"
    }
   },
   "cell_type": "code",
   "source": [
    "analogy_result = w2v_model.wv.most_similar(positive=['colombo', 'galle'], negative=['city'], topn=1)\n",
    "print(f\"Analogy result for 'colombo' - 'city' + 'galle': {analogy_result}\")"
   ],
   "id": "ab980ade5666e480",
   "outputs": [
    {
     "name": "stdout",
     "output_type": "stream",
     "text": [
      "Analogy result for 'colombo' - 'city' + 'galle': [('fort', 0.47828251123428345)]\n"
     ]
    }
   ],
   "execution_count": 60
  },
  {
   "metadata": {},
   "cell_type": "markdown",
   "source": "Here, we can see that the model determines that Colombo - City + Galle = Fort. Which makes intuitive sense. ",
   "id": "469b0302183c6a3"
  },
  {
   "metadata": {},
   "cell_type": "markdown",
   "source": "We can also perform other analogy tasks, such as finding a word that is to \"bed\" as \"internet\" is to \"sleep\".",
   "id": "e95af2278441f3d5"
  },
  {
   "metadata": {
    "ExecuteTime": {
     "end_time": "2025-07-14T06:29:13.478738Z",
     "start_time": "2025-07-14T06:29:13.468720Z"
    }
   },
   "cell_type": "code",
   "source": [
    "analogy_result = w2v_model.wv.most_similar(positive=['bed', 'internet'], negative=['sleep'], topn=1)\n",
    "print(f\"Analogy result for 'bed' - 'sleep' + 'internet': {analogy_result}\")"
   ],
   "id": "28d8eb944669afc6",
   "outputs": [
    {
     "name": "stdout",
     "output_type": "stream",
     "text": [
      "Analogy result for 'bed' - 'sleep' + 'internet': [('connection', 0.5435218214988708)]\n"
     ]
    }
   ],
   "execution_count": 61
  },
  {
   "metadata": {},
   "cell_type": "markdown",
   "source": "Here, it determined that Bed - Sleep + Internet = Connection. Which also makes sense.",
   "id": "13ce78ecbd2b934b"
  },
  {
   "metadata": {},
   "cell_type": "markdown",
   "source": "Let's check another analogy task, such as finding a word that is to \"bed\" as \"water\" is to \"pillow\".",
   "id": "7cf118a9f9407852"
  },
  {
   "metadata": {
    "ExecuteTime": {
     "end_time": "2025-07-14T06:29:13.565262Z",
     "start_time": "2025-07-14T06:29:13.552087Z"
    }
   },
   "cell_type": "code",
   "source": [
    "analogy_result = w2v_model.wv.most_similar(positive=['bed', 'water'], negative=['pillow'], topn=1)\n",
    "print(f\"Analogy result for 'bed' - 'pillow' + 'water': {analogy_result}\")"
   ],
   "id": "d3fd17333d4d6398",
   "outputs": [
    {
     "name": "stdout",
     "output_type": "stream",
     "text": [
      "Analogy result for 'bed' - 'pillow' + 'water': [('hot', 0.47072774171829224)]\n"
     ]
    }
   ],
   "execution_count": 62
  },
  {
   "metadata": {},
   "cell_type": "markdown",
   "source": "Here, it determined that Bed - Pillow + Water = Hot. This is unexpected, and highlights the limitations of the model in understanding certain relationships.",
   "id": "157710c63bdb227c"
  },
  {
   "metadata": {},
   "cell_type": "markdown",
   "source": "We can also check for some common relationships, but those which might not be present in the dataset.",
   "id": "8aceb38f44fb1a48"
  },
  {
   "metadata": {
    "ExecuteTime": {
     "end_time": "2025-07-14T06:29:13.645717Z",
     "start_time": "2025-07-14T06:29:13.636055Z"
    }
   },
   "cell_type": "code",
   "source": [
    "result = w2v_model.wv.most_similar(positive=['king', 'woman'], negative=['man'], topn=1)\n",
    "print(f\"Analogy result for 'king' - 'man' + 'woman': {result}\")"
   ],
   "id": "9dfcd5cc9ba0fddc",
   "outputs": [
    {
     "name": "stdout",
     "output_type": "stream",
     "text": [
      "Analogy result for 'king' - 'man' + 'woman': [('sorts', 0.6136476993560791)]\n"
     ]
    }
   ],
   "execution_count": 63
  },
  {
   "metadata": {},
   "cell_type": "markdown",
   "source": "Here, we see that the model struggles to come up with a meaningful analogy for this relationship, which highlights the limitations of the dataset to generalize.",
   "id": "b314056fa78db642"
  },
  {
   "metadata": {},
   "cell_type": "markdown",
   "source": "Finally, we can vectorize the reviews using the Word2Vec model by averaging the word vectors for each review.",
   "id": "2b2f2872498ed619"
  },
  {
   "metadata": {
    "ExecuteTime": {
     "end_time": "2025-07-14T06:29:15.753200Z",
     "start_time": "2025-07-14T06:29:13.709305Z"
    }
   },
   "cell_type": "code",
   "source": [
    "def get_review_vector(review, model):\n",
    "    tokens = word_tokenize(review.lower())\n",
    "    vector = sum(model.wv[token] for token in tokens if token in model.wv) / len(tokens)\n",
    "    return vector\n",
    "\n",
    "w2v_review_vectors = reviews['review'].apply(lambda x: get_review_vector(x, w2v_model))\n",
    "w2v_review_vectors = np.vstack(w2v_review_vectors.values)\n",
    "w2v_review_vectors = pd.DataFrame(w2v_review_vectors)\n",
    "print(f\"Shape of the Word2Vec review vectors: {w2v_review_vectors.shape}\")"
   ],
   "id": "f7e4b121d99a1a8c",
   "outputs": [
    {
     "name": "stdout",
     "output_type": "stream",
     "text": [
      "Shape of the Word2Vec review vectors: (5186, 500)\n"
     ]
    }
   ],
   "execution_count": 64
  },
  {
   "metadata": {},
   "cell_type": "markdown",
   "source": "We can see that the dataset now consists of 5186 reviews, and each review is represented by a 500-dimensional vector. We can even print the first review vector to see how it looks.",
   "id": "2e966ea9dd62f86f"
  },
  {
   "metadata": {
    "ExecuteTime": {
     "end_time": "2025-07-14T06:29:15.892533Z",
     "start_time": "2025-07-14T06:29:15.883175Z"
    }
   },
   "cell_type": "code",
   "source": "print(w2v_review_vectors[0])",
   "id": "e941969a260db86",
   "outputs": [
    {
     "name": "stdout",
     "output_type": "stream",
     "text": [
      "0       0.026881\n",
      "1      -0.020825\n",
      "2      -0.038099\n",
      "3       0.018888\n",
      "4      -0.022236\n",
      "          ...   \n",
      "5181    0.004298\n",
      "5182   -0.010009\n",
      "5183   -0.030506\n",
      "5184   -0.009015\n",
      "5185   -0.014567\n",
      "Name: 0, Length: 5186, dtype: float32\n"
     ]
    }
   ],
   "execution_count": 65
  },
  {
   "metadata": {},
   "cell_type": "markdown",
   "source": "### 3.4. Doc2Vec",
   "id": "e7d7abe127d833a8"
  },
  {
   "metadata": {
    "ExecuteTime": {
     "end_time": "2025-07-14T06:30:07.533753Z",
     "start_time": "2025-07-14T06:29:15.897963Z"
    }
   },
   "cell_type": "code",
   "source": [
    "tokenized_reviews = [word_tokenize(review.lower()) for review in reviews['review']]\n",
    "tagged_data = [TaggedDocument(words=words, tags=[str(i)]) for i, words in enumerate(tokenized_reviews)]\n",
    "\n",
    "doc2vec_model = Doc2Vec(vector_size=500, window=50, min_count=1, workers=8, epochs=20)\n",
    "doc2vec_model.build_vocab(tagged_data)\n",
    "doc2vec_model.train(tagged_data, total_examples=doc2vec_model.corpus_count, epochs=doc2vec_model.epochs)\n",
    "\n",
    "doc2vec_review_vectors = np.vstack([doc2vec_model.infer_vector(words) for words in tokenized_reviews])\n",
    "doc2vec_review_vectors = pd.DataFrame(doc2vec_review_vectors)"
   ],
   "id": "70594fd9625ed889",
   "outputs": [],
   "execution_count": 66
  },
  {
   "metadata": {
    "ExecuteTime": {
     "end_time": "2025-07-14T06:30:07.695497Z",
     "start_time": "2025-07-14T06:30:07.687491Z"
    }
   },
   "cell_type": "code",
   "source": "print(f\"Shape of the Doc2Vec review vectors: {doc2vec_review_vectors.shape}\")",
   "id": "bc9478e841320958",
   "outputs": [
    {
     "name": "stdout",
     "output_type": "stream",
     "text": [
      "Shape of the Doc2Vec review vectors: (5186, 500)\n"
     ]
    }
   ],
   "execution_count": 67
  },
  {
   "metadata": {
    "ExecuteTime": {
     "end_time": "2025-07-14T06:30:07.786758Z",
     "start_time": "2025-07-14T06:30:07.779039Z"
    }
   },
   "cell_type": "code",
   "source": [
    "inferred_vector = doc2vec_model.infer_vector(\"the bed was uncomfortable\".lower().split())\n",
    "print(inferred_vector.shape)"
   ],
   "id": "9af616d60cd14286",
   "outputs": [
    {
     "name": "stdout",
     "output_type": "stream",
     "text": [
      "(500,)\n"
     ]
    }
   ],
   "execution_count": 68
  },
  {
   "metadata": {
    "ExecuteTime": {
     "end_time": "2025-07-14T06:30:08.043077Z",
     "start_time": "2025-07-14T06:30:08.034965Z"
    }
   },
   "cell_type": "code",
   "source": "print(inferred_vector)",
   "id": "1273016a046fc074",
   "outputs": [
    {
     "name": "stdout",
     "output_type": "stream",
     "text": [
      "[ 1.79446060e-02  1.53058581e-02  1.76981650e-02  3.17104086e-02\n",
      " -1.91894658e-02 -1.23261111e-02  9.94187407e-03  8.87842290e-03\n",
      " -2.44432967e-03 -2.31661438e-03 -3.08689009e-03 -9.77275986e-03\n",
      "  1.59678087e-02 -1.42546585e-02  1.61243435e-02 -3.59454527e-02\n",
      " -1.64232217e-02 -2.06510425e-02  1.09232475e-04 -5.10325236e-03\n",
      "  7.50653213e-03 -1.71949789e-02  1.91980097e-02  7.11631682e-03\n",
      " -1.83746638e-03  1.64147317e-02  7.01201055e-03  7.17629306e-03\n",
      " -1.20069468e-02 -2.06664037e-02  1.10710729e-02 -8.01882986e-03\n",
      "  2.12258548e-02 -1.08086960e-02  3.19587998e-02 -2.14461330e-03\n",
      "  2.16315556e-02 -5.20936884e-02 -1.40117221e-02 -2.57253386e-02\n",
      " -1.61490645e-02 -1.59287341e-02 -2.42028479e-02  2.28739269e-02\n",
      " -3.45986336e-03 -2.36748178e-02  3.26268841e-03  2.18118988e-02\n",
      " -1.05360877e-02 -4.12311358e-03  2.46824021e-03  2.48298189e-03\n",
      " -4.27452521e-03 -2.31818315e-02 -1.88607606e-03 -1.39220040e-02\n",
      "  4.06431081e-03 -1.97593239e-03  1.08816708e-02 -4.74145729e-03\n",
      " -5.17733023e-03 -4.14246926e-03  5.50296530e-03  7.80142145e-03\n",
      " -7.69769680e-03  2.92916521e-02 -1.05630802e-02 -2.45840312e-03\n",
      " -2.70268344e-03  4.67171706e-03 -1.55215780e-03 -6.79536257e-03\n",
      " -3.02560604e-03  2.64903530e-03  1.06989769e-02  7.64326286e-03\n",
      "  2.38788035e-03  8.51780642e-03  6.52840920e-03 -3.46953375e-03\n",
      "  8.82498361e-03 -1.93059060e-03 -2.82307882e-02  1.28223319e-02\n",
      " -2.03019232e-02  1.94421746e-02  1.49240671e-03  4.75252839e-03\n",
      "  2.67233793e-02  1.70367416e-02  1.81378750e-03  5.66538330e-03\n",
      " -1.97752789e-02  1.45943193e-02  6.49740733e-03  9.73292906e-03\n",
      "  2.42035817e-02  1.15409773e-02  3.36926170e-02  1.77251603e-02\n",
      " -1.40263345e-02  1.79888476e-02  3.69750382e-03  1.01082148e-02\n",
      " -1.53726768e-02  1.41964504e-03  8.93090572e-03 -1.36212334e-02\n",
      "  1.51279205e-02  1.17647927e-02  8.32458027e-03 -3.73074249e-03\n",
      " -1.37092511e-03  1.10745635e-02  4.79737716e-03 -4.65712772e-04\n",
      "  1.29077001e-03  6.48327824e-03 -4.34729783e-03  1.46919843e-02\n",
      " -4.25513089e-03  1.04290908e-02  3.49062271e-02 -1.50359534e-02\n",
      "  7.68133765e-03  1.02855964e-02 -6.00433815e-03 -5.07252896e-03\n",
      " -1.45805173e-03 -1.20524559e-02  1.80228297e-02  2.39765774e-02\n",
      "  4.32379823e-03 -6.71564974e-03  1.50556443e-02  1.63635146e-02\n",
      " -4.53046244e-03 -8.10826104e-03 -7.26620085e-04 -3.20154019e-02\n",
      "  7.17457477e-03 -1.27686700e-02  2.79059820e-03 -1.23169245e-02\n",
      " -4.31053864e-04  3.27408640e-03  1.16402574e-03  6.28699595e-03\n",
      "  8.25456250e-03 -2.04387098e-03  2.46135533e-05 -9.00000916e-04\n",
      "  1.10635730e-02 -1.12590869e-03 -1.11647043e-02 -3.81130935e-03\n",
      " -6.21426292e-03 -1.32202953e-02 -1.26834689e-02  1.88341122e-02\n",
      "  5.13632689e-03  1.07497722e-02 -1.64488051e-02  3.53400595e-03\n",
      " -4.56901267e-03  3.49076488e-03  2.65677087e-02  2.55341921e-02\n",
      "  4.89728712e-03  1.86999049e-02  1.13237556e-02  2.09911596e-02\n",
      " -4.42591729e-03  1.44755896e-02  5.84194029e-04 -5.34502370e-03\n",
      " -8.38862732e-03 -1.21606104e-02  5.05576655e-03  6.38782233e-03\n",
      " -1.57019496e-02 -4.24157502e-03  4.40231105e-03  5.33782877e-03\n",
      " -1.77172665e-02 -1.82608087e-02 -1.46821141e-02  1.13928877e-02\n",
      " -9.69257485e-03  1.89241376e-02  2.27005687e-02  3.64810089e-03\n",
      " -1.13891205e-03  3.54466704e-03  4.58753575e-03  4.66931378e-03\n",
      " -1.93337165e-03 -7.64694763e-03  8.74078367e-03  1.17107984e-02\n",
      " -7.13895774e-03  5.32033481e-03  2.07817946e-02 -1.43689476e-03\n",
      "  1.45303858e-02  1.06038330e-02 -1.60220433e-02  9.86865629e-03\n",
      " -4.48040143e-02 -3.33006005e-03 -4.58137924e-03 -1.14672910e-02\n",
      " -2.20615622e-02 -7.10993214e-03  1.66336484e-02 -2.17069741e-02\n",
      " -2.62638777e-02 -1.89583134e-02 -1.79756396e-02 -1.81072429e-02\n",
      "  3.04133892e-02  1.14664622e-02  3.03487442e-02  2.50743646e-02\n",
      " -1.42750330e-02  6.04430446e-03  2.83049233e-02 -4.00609002e-02\n",
      "  2.20704917e-02 -7.00225215e-03  1.55251729e-03 -6.34040590e-03\n",
      " -7.58303562e-03  2.47304197e-02 -2.19173869e-03 -8.78970698e-03\n",
      " -3.15714665e-02 -4.69011068e-02  4.72940579e-02  2.25657541e-02\n",
      " -3.26295244e-03 -2.13092007e-02 -6.97807372e-02 -1.31974218e-03\n",
      "  3.82435834e-03  7.30887623e-05 -4.64231148e-03  2.07986739e-02\n",
      "  1.90795325e-02  8.89830943e-03  1.38451336e-02 -3.10194474e-02\n",
      "  4.12269682e-03 -2.43768450e-02 -1.55946324e-02  3.21261883e-02\n",
      " -2.77306861e-03  1.61883608e-02 -5.70808258e-03  8.27322155e-03\n",
      " -1.51565596e-02  6.32001553e-03 -4.01311070e-02  4.67584841e-03\n",
      "  2.11488688e-03 -1.15364545e-03 -4.32086969e-03  1.04493713e-02\n",
      "  1.45894457e-02  1.01861567e-03  4.30573989e-03  3.04588377e-02\n",
      "  3.18678608e-03  1.50119644e-02 -3.40565457e-03  1.30227045e-03\n",
      " -1.46415997e-02 -3.89842177e-03  1.44591713e-02  9.63690132e-03\n",
      "  1.68559197e-02  1.25178918e-02 -2.11780774e-03 -3.95046920e-03\n",
      "  1.79922041e-02 -4.00794391e-03  1.06831230e-02  1.52431440e-03\n",
      "  5.81188034e-03 -1.36134624e-02 -3.96998180e-03 -3.54355958e-04\n",
      " -1.37044154e-02  9.09648556e-03  4.28322190e-03  3.49323638e-03\n",
      "  2.49480866e-02 -1.53175006e-02 -2.83073634e-03 -7.85967521e-03\n",
      " -4.17171866e-02 -2.57320143e-02  1.11546097e-02 -8.70766398e-03\n",
      "  5.83441649e-03 -3.89216915e-02 -1.02977334e-02  2.19927933e-02\n",
      "  4.98605287e-03  1.54073238e-02 -2.01795828e-02 -2.25858539e-02\n",
      " -1.11922119e-02  2.17547975e-02 -1.23327458e-02 -2.98060458e-02\n",
      "  1.68715362e-02 -2.02860758e-02  3.72757087e-03 -7.64503656e-03\n",
      "  7.84971658e-03 -5.50745474e-03 -7.64469802e-03 -1.87382437e-02\n",
      " -1.32937515e-02  8.75724014e-03 -1.44006023e-02 -7.66517501e-03\n",
      "  1.63538344e-02 -1.97255667e-02  1.32362554e-02  2.03706250e-02\n",
      " -6.57768548e-03 -8.76331236e-03  1.71289209e-03 -3.39560434e-02\n",
      " -1.14608798e-02  1.04547264e-02 -1.98095106e-02 -2.05047783e-02\n",
      "  6.11894997e-03 -2.98240166e-02  6.21570693e-03 -1.57773271e-02\n",
      "  6.74535893e-03 -6.54360373e-03 -2.36265492e-02  2.69079935e-02\n",
      "  6.67328422e-04  1.91702507e-02 -1.46458773e-02  4.37432295e-03\n",
      " -2.27098539e-02  1.48215415e-02 -1.03400564e-02  1.61156077e-02\n",
      "  8.11717659e-03  6.64680498e-03 -1.58655446e-03 -4.69398731e-03\n",
      "  1.95813295e-03  8.13284237e-03  4.87156765e-04  1.13546941e-03\n",
      "  5.24930051e-03 -1.55782318e-02  7.10091088e-03 -3.53261060e-03\n",
      " -1.27333645e-02 -9.09882016e-04  2.87352828e-03  2.78368010e-03\n",
      " -1.24888616e-02 -1.17480187e-02  1.05455369e-02 -1.34911295e-03\n",
      "  7.31795793e-03 -1.99408662e-02 -6.94909552e-03  1.34946583e-02\n",
      "  1.75539032e-02  8.04423448e-03  9.95196775e-03  9.74748470e-03\n",
      " -9.05969460e-03 -1.85513254e-02 -9.80964210e-03  1.67148840e-02\n",
      "  1.19958343e-02  9.85073391e-03 -1.89283257e-03 -9.83428676e-03\n",
      " -3.90882744e-03 -4.04318003e-03  1.81547422e-02  2.48176511e-02\n",
      "  1.52650196e-02  2.33397842e-03  3.11824348e-04  5.24434960e-03\n",
      " -5.71326492e-03  1.35744354e-02  9.76392440e-03 -9.54785477e-03\n",
      " -1.47406326e-03 -1.47036891e-02 -7.28963409e-03  1.03880018e-02\n",
      " -1.16751539e-02 -8.65005597e-04 -1.27772866e-02 -1.35297645e-02\n",
      "  2.05956306e-03  4.64687636e-03  2.18867417e-03 -1.48516195e-02\n",
      " -9.49473213e-03  5.60745783e-03  7.91815342e-04 -1.09902490e-02\n",
      "  1.28522748e-03  4.07424476e-03 -1.16022723e-02  1.72168855e-02\n",
      " -8.69099144e-03  8.84207431e-03 -1.57298166e-02  3.08002904e-03\n",
      " -2.06026295e-03 -2.95728445e-03 -2.36177556e-02  1.12687116e-02\n",
      "  1.54136233e-02  1.54778678e-02 -7.41479034e-03 -1.16632339e-02\n",
      "  1.54137602e-02  7.33370055e-03  9.81583493e-04 -2.35858679e-04\n",
      "  4.61027306e-03 -5.99886710e-03  3.58295656e-05 -1.16950106e-02\n",
      "  1.84414685e-02  8.37927684e-03  2.40831524e-02  4.00347635e-03\n",
      "  1.11855809e-02  9.83477291e-03  5.25260810e-04 -1.04477978e-03\n",
      "  1.38781872e-02 -3.01813986e-02  6.69660419e-03  3.40747088e-03\n",
      " -9.61015525e-04 -2.78616417e-03 -2.48263148e-03 -2.23621857e-04\n",
      "  2.81699141e-03  2.60412116e-02 -1.64005756e-02 -1.34235825e-02\n",
      " -5.33249276e-03 -2.39524199e-03 -1.27748854e-03 -4.03460339e-02\n",
      " -9.78656113e-04  3.42123071e-03 -1.87656377e-02 -9.16155055e-03\n",
      "  5.73252421e-03 -3.46406102e-02  2.58016167e-03 -5.83843701e-03\n",
      "  2.44521089e-02 -1.58738084e-02 -1.85226426e-02  1.12136658e-02\n",
      "  2.91134842e-04 -3.56145017e-02 -2.82360869e-03  1.46612115e-02\n",
      "  2.31413879e-02  7.90857803e-03 -3.95474173e-02  1.90968793e-02\n",
      "  1.49450861e-02  6.13150280e-03  1.25371320e-02 -1.09830480e-02\n",
      "  2.16502603e-02  6.58307783e-03  5.08303707e-03 -5.98084508e-03\n",
      " -2.00803671e-02  4.35946276e-03 -1.19780237e-02  5.82652865e-03]\n"
     ]
    }
   ],
   "execution_count": 69
  },
  {
   "metadata": {
    "ExecuteTime": {
     "end_time": "2025-07-14T06:30:08.202678Z",
     "start_time": "2025-07-14T06:30:08.186682Z"
    }
   },
   "cell_type": "code",
   "source": [
    "similar_docs = doc2vec_model.dv.most_similar([inferred_vector], topn=5)\n",
    "\n",
    "for doc_id, similarity in similar_docs:\n",
    "    print(f\"Document {doc_id}: Similarity={similarity:.4f}\")\n",
    "    print(\"Review:\", reviews['review'].iloc[int(doc_id)])\n",
    "    print(\"---\")"
   ],
   "id": "24a8cfeb0872b8f",
   "outputs": [
    {
     "name": "stdout",
     "output_type": "stream",
     "text": [
      "Document 3904: Similarity=0.7817\n",
      "Review: room view lovely view room hotel also restaurants staff helpful rooms well appointed\n",
      "---\n",
      "Document 4958: Similarity=0.7610\n",
      "Review: 134 good room service isvery good food really good come back friends family would like recommend hotel thank tharindi girl help stay nimesh fo team thank\n",
      "---\n",
      "Document 4335: Similarity=0.7561\n",
      "Review: nice gesthouse nice gesthouse quiet comfortable place clean rooms wifi rooms friendly helpful ovners delicious food fresh fruits breakfast tasty lunch dinner come enjoy holidays\n",
      "---\n",
      "Document 2614: Similarity=0.7536\n",
      "Review: beautiful hotel really enyoyed staying beautifull hotel room veary clean air con host frendly arranged us tour really nice tuctuc driver tharindu took us see waterfalls came back got us fresh juice dinner breakfast delicius\n",
      "---\n",
      "Document 1335: Similarity=0.7509\n",
      "Review: far away city rooms simple enough stay 12 nights nice view unfortunately 2km walking uphill city centre roads withought sidewalk tyring nothing around really go city\n",
      "---\n"
     ]
    }
   ],
   "execution_count": 70
  },
  {
   "metadata": {},
   "cell_type": "markdown",
   "source": "Finally, we can save all the feature matrices to CSV files for further use.",
   "id": "6199165f90522f88"
  },
  {
   "metadata": {
    "ExecuteTime": {
     "end_time": "2025-07-14T06:30:08.322440Z",
     "start_time": "2025-07-14T06:30:08.316563Z"
    }
   },
   "cell_type": "code",
   "source": [
    "feature_matrices = {\n",
    "    'bow': bow_matrix,\n",
    "    'tfidf': tfidf_matrix_df,\n",
    "    'word2vec': w2v_review_vectors,\n",
    "    'doc2vec': doc2vec_review_vectors\n",
    "}"
   ],
   "id": "ab0ebccd6cc438e9",
   "outputs": [],
   "execution_count": 71
  },
  {
   "metadata": {
    "ExecuteTime": {
     "end_time": "2025-07-14T06:32:14.163668Z",
     "start_time": "2025-07-14T06:30:08.409046Z"
    }
   },
   "cell_type": "code",
   "source": [
    "for name, matrix in feature_matrices.items():\n",
    "    print(f\"Saving {name} feature matrix...\")\n",
    "    matrix.to_csv(f\"feature_matrix_{name}.csv\", index=False)"
   ],
   "id": "59e6f466cba38285",
   "outputs": [
    {
     "name": "stdout",
     "output_type": "stream",
     "text": [
      "Saving bow feature matrix...\n",
      "Saving tfidf feature matrix...\n",
      "Saving word2vec feature matrix...\n",
      "Saving doc2vec feature matrix...\n"
     ]
    }
   ],
   "execution_count": 72
  }
 ],
 "metadata": {
  "kernelspec": {
   "display_name": "Python 3",
   "language": "python",
   "name": "python3"
  },
  "language_info": {
   "codemirror_mode": {
    "name": "ipython",
    "version": 2
   },
   "file_extension": ".py",
   "mimetype": "text/x-python",
   "name": "python",
   "nbconvert_exporter": "python",
   "pygments_lexer": "ipython2",
   "version": "2.7.6"
  }
 },
 "nbformat": 4,
 "nbformat_minor": 5
}
