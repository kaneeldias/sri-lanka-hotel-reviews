{
 "cells": [
  {
   "metadata": {
    "ExecuteTime": {
     "end_time": "2025-07-11T06:06:02.273285Z",
     "start_time": "2025-07-11T06:06:02.261586Z"
    }
   },
   "cell_type": "code",
   "source": [
    "import pandas as pd\n",
    "from sklearn.feature_extraction.text import CountVectorizer\n",
    "from sklearn.feature_extraction.text import TfidfVectorizer\n",
    "from gensim.models import Word2Vec\n",
    "from nltk.tokenize import word_tokenize\n",
    "import gensim.downloader as api\n",
    "import numpy as np"
   ],
   "id": "4bd2e8a1448e3b3a",
   "outputs": [],
   "execution_count": 117
  },
  {
   "metadata": {},
   "cell_type": "markdown",
   "source": [
    "## Task 3 - Feature Extraction\n",
    "First we will load the ground truth reviews dataset."
   ],
   "id": "a7b48110a0e2f803"
  },
  {
   "metadata": {
    "ExecuteTime": {
     "end_time": "2025-07-11T04:28:09.958835Z",
     "start_time": "2025-07-11T04:28:09.885306Z"
    }
   },
   "cell_type": "code",
   "outputs": [
    {
     "data": {
      "text/plain": [
       "    review_id  location_id             hotel_name     city  \\\n",
       "0  1016464488     11953119  Nh Collection Colombo  Colombo   \n",
       "1  1016435128     11953119  Nh Collection Colombo  Colombo   \n",
       "2  1016307864     11953119  Nh Collection Colombo  Colombo   \n",
       "3  1016165618     11953119  Nh Collection Colombo  Colombo   \n",
       "4  1015472232     11953119  Nh Collection Colombo  Colombo   \n",
       "\n",
       "                                              review  rating  \\\n",
       "0  good stay found lighters toilet paper rolls no...       1   \n",
       "1  definitely recommend hotel excellent food good...       5   \n",
       "2  wonderful stay comfortable staycooperative sta...       5   \n",
       "3  favorite 4 star hotel colombo live new york ar...       5   \n",
       "4  excellent food stay excellent food especially ...       5   \n",
       "\n",
       "   ground_truth_sentiment  \n",
       "0                       1  \n",
       "1                       1  \n",
       "2                       1  \n",
       "3                       1  \n",
       "4                       1  "
      ],
      "text/html": [
       "<div>\n",
       "<style scoped>\n",
       "    .dataframe tbody tr th:only-of-type {\n",
       "        vertical-align: middle;\n",
       "    }\n",
       "\n",
       "    .dataframe tbody tr th {\n",
       "        vertical-align: top;\n",
       "    }\n",
       "\n",
       "    .dataframe thead th {\n",
       "        text-align: right;\n",
       "    }\n",
       "</style>\n",
       "<table border=\"1\" class=\"dataframe\">\n",
       "  <thead>\n",
       "    <tr style=\"text-align: right;\">\n",
       "      <th></th>\n",
       "      <th>review_id</th>\n",
       "      <th>location_id</th>\n",
       "      <th>hotel_name</th>\n",
       "      <th>city</th>\n",
       "      <th>review</th>\n",
       "      <th>rating</th>\n",
       "      <th>ground_truth_sentiment</th>\n",
       "    </tr>\n",
       "  </thead>\n",
       "  <tbody>\n",
       "    <tr>\n",
       "      <th>0</th>\n",
       "      <td>1016464488</td>\n",
       "      <td>11953119</td>\n",
       "      <td>Nh Collection Colombo</td>\n",
       "      <td>Colombo</td>\n",
       "      <td>good stay found lighters toilet paper rolls no...</td>\n",
       "      <td>1</td>\n",
       "      <td>1</td>\n",
       "    </tr>\n",
       "    <tr>\n",
       "      <th>1</th>\n",
       "      <td>1016435128</td>\n",
       "      <td>11953119</td>\n",
       "      <td>Nh Collection Colombo</td>\n",
       "      <td>Colombo</td>\n",
       "      <td>definitely recommend hotel excellent food good...</td>\n",
       "      <td>5</td>\n",
       "      <td>1</td>\n",
       "    </tr>\n",
       "    <tr>\n",
       "      <th>2</th>\n",
       "      <td>1016307864</td>\n",
       "      <td>11953119</td>\n",
       "      <td>Nh Collection Colombo</td>\n",
       "      <td>Colombo</td>\n",
       "      <td>wonderful stay comfortable staycooperative sta...</td>\n",
       "      <td>5</td>\n",
       "      <td>1</td>\n",
       "    </tr>\n",
       "    <tr>\n",
       "      <th>3</th>\n",
       "      <td>1016165618</td>\n",
       "      <td>11953119</td>\n",
       "      <td>Nh Collection Colombo</td>\n",
       "      <td>Colombo</td>\n",
       "      <td>favorite 4 star hotel colombo live new york ar...</td>\n",
       "      <td>5</td>\n",
       "      <td>1</td>\n",
       "    </tr>\n",
       "    <tr>\n",
       "      <th>4</th>\n",
       "      <td>1015472232</td>\n",
       "      <td>11953119</td>\n",
       "      <td>Nh Collection Colombo</td>\n",
       "      <td>Colombo</td>\n",
       "      <td>excellent food stay excellent food especially ...</td>\n",
       "      <td>5</td>\n",
       "      <td>1</td>\n",
       "    </tr>\n",
       "  </tbody>\n",
       "</table>\n",
       "</div>"
      ]
     },
     "execution_count": 3,
     "metadata": {},
     "output_type": "execute_result"
    }
   ],
   "execution_count": 3,
   "source": [
    "reviews = pd.read_csv(\"ground_truth_reviews.csv\")\n",
    "reviews.head()"
   ],
   "id": "9604fa57454f8b96"
  },
  {
   "metadata": {},
   "cell_type": "markdown",
   "source": [
    "### 3.1. Bag of Words (BoW)\n",
    "Here, we will create a Bag of Words (BoW) representation of the reviews. \n",
    "This involves tokenizing the text and creating a matrix where each row corresponds to a review and each column corresponds to a word in the vocabulary."
   ],
   "id": "74ca8256b2f071d"
  },
  {
   "metadata": {
    "ExecuteTime": {
     "end_time": "2025-07-11T04:28:10.291156Z",
     "start_time": "2025-07-11T04:28:09.995341Z"
    }
   },
   "cell_type": "code",
   "source": [
    "vectorizer = CountVectorizer()\n",
    "X = vectorizer.fit_transform(reviews[\"review\"])"
   ],
   "id": "d981539e1297b836",
   "outputs": [],
   "execution_count": 4
  },
  {
   "metadata": {
    "ExecuteTime": {
     "end_time": "2025-07-11T04:28:10.356973Z",
     "start_time": "2025-07-11T04:28:10.340276Z"
    }
   },
   "cell_type": "code",
   "source": [
    "vocabulary = vectorizer.get_feature_names_out()\n",
    "print(f\"Size of BoW vocabulary: {len(vocabulary)}\")"
   ],
   "id": "cda239dc36672a01",
   "outputs": [
    {
     "name": "stdout",
     "output_type": "stream",
     "text": [
      "Size of BoW vocabulary: 17968\n"
     ]
    }
   ],
   "execution_count": 5
  },
  {
   "metadata": {},
   "cell_type": "markdown",
   "source": "We can see here that there are 17,968 unique words in the vocabulary extracted from the reviews.",
   "id": "6748508cabf84c91"
  },
  {
   "metadata": {
    "ExecuteTime": {
     "end_time": "2025-07-11T04:28:10.675002Z",
     "start_time": "2025-07-11T04:28:10.506079Z"
    }
   },
   "cell_type": "code",
   "source": [
    "bow_matrix = pd.DataFrame(X.toarray(), columns=vocabulary)\n",
    "print(f\"Shape of the BoW matrix: {bow_matrix.shape}\")"
   ],
   "id": "cb8d3e3f7755f730",
   "outputs": [
    {
     "name": "stdout",
     "output_type": "stream",
     "text": [
      "Shape of the BoW matrix: (5186, 17968)\n"
     ]
    }
   ],
   "execution_count": 6
  },
  {
   "metadata": {},
   "cell_type": "markdown",
   "source": "The shape of the BoW matrix is (5186, 17968), meaning there are 5186 reviews, and each vector has 17968 features corresponding to the unique words in the vocabulary.",
   "id": "8697c7c1652aa171"
  },
  {
   "metadata": {},
   "cell_type": "markdown",
   "source": "We can even print the first row of the BoW matrix to see how it looks.",
   "id": "c9dd1b104be50a4"
  },
  {
   "metadata": {
    "ExecuteTime": {
     "end_time": "2025-07-11T05:23:01.017106Z",
     "start_time": "2025-07-11T05:23:01.004447Z"
    }
   },
   "cell_type": "code",
   "source": "print(bow_matrix.iloc[0])",
   "id": "59bffc4dc5c67e26",
   "outputs": [
    {
     "name": "stdout",
     "output_type": "stream",
     "text": [
      "000                   0\n",
      "01                    0\n",
      "0111and               0\n",
      "0120                  0\n",
      "0130                  0\n",
      "                     ..\n",
      "顶楼还有个游泳池不过没来得及享受一下    0\n",
      "𝐄𝐚𝐬𝐡𝐚𝐧𝐢               0\n",
      "𝐆𝐮𝐞𝐬𝐭                 0\n",
      "𝐑𝐞𝐥𝐚𝐭𝐢𝐨𝐧𝐬             0\n",
      "𝐢𝐧                    0\n",
      "Name: 0, Length: 17968, dtype: int64\n"
     ]
    }
   ],
   "execution_count": 108
  },
  {
   "metadata": {},
   "cell_type": "markdown",
   "source": "Let's check for some words from the first review that are present.",
   "id": "3044901345d1832e"
  },
  {
   "metadata": {
    "ExecuteTime": {
     "end_time": "2025-07-11T05:25:00.399464Z",
     "start_time": "2025-07-11T05:25:00.387157Z"
    }
   },
   "cell_type": "code",
   "source": "print(bow_matrix.iloc[0][bow_matrix.iloc[0] > 0])",
   "id": "c2479c7ad0141a42",
   "outputs": [
    {
     "name": "stdout",
     "output_type": "stream",
     "text": [
      "beds        1\n",
      "booked      1\n",
      "even        1\n",
      "found       1\n",
      "give        1\n",
      "good        1\n",
      "lighters    1\n",
      "non         1\n",
      "paper       1\n",
      "rolls       1\n",
      "room        1\n",
      "smoking     1\n",
      "stay        1\n",
      "though      1\n",
      "toilet      1\n",
      "twin        1\n",
      "us          1\n",
      "Name: 0, dtype: int64\n"
     ]
    }
   ],
   "execution_count": 111
  },
  {
   "metadata": {},
   "cell_type": "markdown",
   "source": [
    "### 3.2. Term Frequency-Inverse Document Frequency (TF-IDF)\n",
    "Here, we will create a Term Frequency-Inverse Document Frequency (TF-IDF) representation of the reviews."
   ],
   "id": "314b81df3242e86b"
  },
  {
   "metadata": {
    "ExecuteTime": {
     "end_time": "2025-07-11T04:28:11.094091Z",
     "start_time": "2025-07-11T04:28:10.812319Z"
    }
   },
   "cell_type": "code",
   "source": [
    "tfidf_vectorizer = TfidfVectorizer()\n",
    "tfidf_matrix = tfidf_vectorizer.fit_transform(reviews['review'])"
   ],
   "id": "cf90239ebfc9f9ff",
   "outputs": [],
   "execution_count": 7
  },
  {
   "metadata": {
    "ExecuteTime": {
     "end_time": "2025-07-11T04:28:11.161419Z",
     "start_time": "2025-07-11T04:28:11.144323Z"
    }
   },
   "cell_type": "code",
   "source": [
    "feature_names = tfidf_vectorizer.get_feature_names_out()\n",
    "print(f\"Size of TF-IDF vocabulary: {len(feature_names)}\")"
   ],
   "id": "caa5a0ea4ac612f3",
   "outputs": [
    {
     "name": "stdout",
     "output_type": "stream",
     "text": [
      "Size of TF-IDF vocabulary: 17968\n"
     ]
    }
   ],
   "execution_count": 8
  },
  {
   "metadata": {},
   "cell_type": "markdown",
   "source": "Once again, we can see that there are 17,968 unique words in the vocabulary extracted from the reviews.",
   "id": "a612163a994ff2f2"
  },
  {
   "metadata": {
    "ExecuteTime": {
     "end_time": "2025-07-11T04:28:11.368363Z",
     "start_time": "2025-07-11T04:28:11.189700Z"
    }
   },
   "cell_type": "code",
   "source": [
    "tfidf_matrix_df = pd.DataFrame(tfidf_matrix.toarray(), columns=feature_names)\n",
    "print(f\"Shape of the TF-IDF matrix: {tfidf_matrix_df.shape}\")"
   ],
   "id": "4e46a089033e6374",
   "outputs": [
    {
     "name": "stdout",
     "output_type": "stream",
     "text": [
      "Shape of the TF-IDF matrix: (5186, 17968)\n"
     ]
    }
   ],
   "execution_count": 9
  },
  {
   "metadata": {},
   "cell_type": "markdown",
   "source": "The shape of the TF-IDF matrix is also (5186, 17968), meaning there are 5186 reviews, and each vector has 17968 features corresponding to the unique words in the vocabulary.",
   "id": "b0e1b979eacb9615"
  },
  {
   "metadata": {},
   "cell_type": "markdown",
   "source": "Once again, we can print the first row of the TF-IDF matrix to see how it looks.",
   "id": "67ded8e06d98e913"
  },
  {
   "metadata": {
    "ExecuteTime": {
     "end_time": "2025-07-11T05:23:54.938467Z",
     "start_time": "2025-07-11T05:23:54.928499Z"
    }
   },
   "cell_type": "code",
   "source": "print(tfidf_matrix_df.iloc[0])",
   "id": "a39c6baec1392411",
   "outputs": [
    {
     "name": "stdout",
     "output_type": "stream",
     "text": [
      "000                   0.0\n",
      "01                    0.0\n",
      "0111and               0.0\n",
      "0120                  0.0\n",
      "0130                  0.0\n",
      "                     ... \n",
      "顶楼还有个游泳池不过没来得及享受一下    0.0\n",
      "𝐄𝐚𝐬𝐡𝐚𝐧𝐢               0.0\n",
      "𝐆𝐮𝐞𝐬𝐭                 0.0\n",
      "𝐑𝐞𝐥𝐚𝐭𝐢𝐨𝐧𝐬             0.0\n",
      "𝐢𝐧                    0.0\n",
      "Name: 0, Length: 17968, dtype: float64\n"
     ]
    }
   ],
   "execution_count": 109
  },
  {
   "metadata": {},
   "cell_type": "markdown",
   "source": "Let's check for some words from the first review that are present in the TF-IDF matrix.",
   "id": "a0eb900c4b61a35c"
  },
  {
   "metadata": {
    "ExecuteTime": {
     "end_time": "2025-07-11T05:25:15.819941Z",
     "start_time": "2025-07-11T05:25:15.810681Z"
    }
   },
   "cell_type": "code",
   "source": "print(tfidf_matrix_df.iloc[0][tfidf_matrix_df.iloc[0] > 0])",
   "id": "7334668064fb7729",
   "outputs": [
    {
     "name": "stdout",
     "output_type": "stream",
     "text": [
      "beds        0.203157\n",
      "booked      0.181399\n",
      "even        0.144703\n",
      "found       0.203431\n",
      "give        0.205972\n",
      "good        0.092402\n",
      "lighters    0.406354\n",
      "non         0.280659\n",
      "paper       0.296387\n",
      "rolls       0.342779\n",
      "room        0.095741\n",
      "smoking     0.374567\n",
      "stay        0.084388\n",
      "though      0.192924\n",
      "toilet      0.232811\n",
      "twin        0.320513\n",
      "us          0.112083\n",
      "Name: 0, dtype: float64\n"
     ]
    }
   ],
   "execution_count": 112
  },
  {
   "metadata": {},
   "cell_type": "markdown",
   "source": "We can also check for the top 10 words with the highest TF-IDF scores in the first review.",
   "id": "ea2cb48f8e68d6a1"
  },
  {
   "metadata": {
    "ExecuteTime": {
     "end_time": "2025-07-11T05:25:43.207825Z",
     "start_time": "2025-07-11T05:25:43.194455Z"
    }
   },
   "cell_type": "code",
   "source": [
    "top_tfidf_words = tfidf_matrix_df.iloc[0].nlargest(10)\n",
    "print(\"Top 10 words with highest TF-IDF scores in the first review:\")\n",
    "print(top_tfidf_words)"
   ],
   "id": "92b5f502bb8e9042",
   "outputs": [
    {
     "name": "stdout",
     "output_type": "stream",
     "text": [
      "Top 10 words with highest TF-IDF scores in the first review:\n",
      "lighters    0.406354\n",
      "smoking     0.374567\n",
      "rolls       0.342779\n",
      "twin        0.320513\n",
      "paper       0.296387\n",
      "non         0.280659\n",
      "toilet      0.232811\n",
      "give        0.205972\n",
      "found       0.203431\n",
      "beds        0.203157\n",
      "Name: 0, dtype: float64\n"
     ]
    }
   ],
   "execution_count": 114
  },
  {
   "metadata": {},
   "cell_type": "markdown",
   "source": [
    "### 3.3. Word2Vec\n",
    "Here, we will create a Word2Vec model using the reviews."
   ],
   "id": "62c59a1fb9dcdf73"
  },
  {
   "metadata": {},
   "cell_type": "markdown",
   "source": "First, we need to tokenize the reviews into words.",
   "id": "8c3b31395a655245"
  },
  {
   "metadata": {
    "ExecuteTime": {
     "end_time": "2025-07-11T04:28:12.897051Z",
     "start_time": "2025-07-11T04:28:11.435375Z"
    }
   },
   "cell_type": "code",
   "source": "tokenized_reviews = [word_tokenize(review.lower()) for review in reviews['review']]",
   "id": "7c718332d467c8de",
   "outputs": [],
   "execution_count": 10
  },
  {
   "metadata": {},
   "cell_type": "markdown",
   "source": "Now we can train a Word2Vec model on the tokenized reviews. We will use a vector size of 500, a window size of 100, and set the minimum count to 0 to include all words.",
   "id": "5c57a94b31060822"
  },
  {
   "metadata": {
    "ExecuteTime": {
     "end_time": "2025-07-11T04:49:48.427003Z",
     "start_time": "2025-07-11T04:48:53.752885Z"
    }
   },
   "cell_type": "code",
   "source": [
    "w2v_model = Word2Vec(sentences=tokenized_reviews, vector_size=500, window=100, min_count=0, workers=8, sg=1)\n",
    "w2v_model.save(\"word2vec.model\")"
   ],
   "id": "e979a82fef0602ae",
   "outputs": [],
   "execution_count": 59
  },
  {
   "metadata": {
    "ExecuteTime": {
     "end_time": "2025-07-11T04:54:19.027351Z",
     "start_time": "2025-07-11T04:54:19.019402Z"
    }
   },
   "cell_type": "code",
   "source": "print(f\"Shape of the Word2Vec matrix: {w2v_model.wv.vectors.shape}\")",
   "id": "2c0dbf4fa6760696",
   "outputs": [
    {
     "name": "stdout",
     "output_type": "stream",
     "text": [
      "Shape of the Word2Vec matrix: (17998, 500)\n"
     ]
    }
   ],
   "execution_count": 63
  },
  {
   "metadata": {},
   "cell_type": "markdown",
   "source": "We can see that the Word2Vec model has a shape of (17998, 500), meaning there are 17,998 unique words in the vocabulary, and each word is represented by a 500-dimensional vector.",
   "id": "f9e537f84cc26452"
  },
  {
   "metadata": {},
   "cell_type": "markdown",
   "source": "We can also check the vector value for a specific word, such as \"bed\".",
   "id": "980133044208f965"
  },
  {
   "metadata": {
    "ExecuteTime": {
     "end_time": "2025-07-11T04:48:31.994722Z",
     "start_time": "2025-07-11T04:48:31.982104Z"
    }
   },
   "cell_type": "code",
   "source": [
    "bed_vector = w2v_model.wv['bed']\n",
    "print(f\"Vector for 'bed': {bed_vector}\")"
   ],
   "id": "5ab246d54b64de17",
   "outputs": [
    {
     "name": "stdout",
     "output_type": "stream",
     "text": [
      "Vector for 'bed': [ 0.01328971  0.07161278  0.06789137 -0.04979965 -0.2273252  -0.22884874\n",
      "  0.23627952  0.35391557  0.08354398 -0.06751227 -0.553474   -0.08800868\n",
      "  0.04060964 -0.10346626 -0.16143037  0.0650394   0.17125958 -0.22617334\n",
      "  0.07321496 -0.2670425   0.45155233  0.08253594  0.00937192 -0.04241944\n",
      " -0.3494298  -0.15199725 -0.32324192 -0.11509268  0.26708007 -0.1962376\n",
      "  0.5659793  -0.05382812  0.48235992 -0.10746121 -0.31623477 -0.00499177\n",
      "  0.03613308  0.11710807  0.07628288 -0.35120985  0.55010337 -0.3976128\n",
      "  0.06993041 -0.3392599   0.23556261  0.24872307 -0.01639684  0.2988197\n",
      "  0.1873349   0.37989455  0.26626685  0.07608344  0.10935228 -0.03928052\n",
      " -0.2505354   0.27249217 -0.17389402  0.19608381 -0.16193092 -0.11035869\n",
      " -0.11730596  0.02260891  0.09064058 -0.36476663 -0.11571939  0.3008439\n",
      "  0.12167478  0.00809896 -0.14899743  0.1450408  -0.05531208  0.06742488\n",
      "  0.05966388 -0.08510252  0.17568527 -0.44088602  0.06441578  0.09202424\n",
      " -0.08971269  0.0678653  -0.41538003  0.10379695 -0.5067962   0.2839775\n",
      "  0.23520176 -0.57104254  0.04925273  0.18557464 -0.09381876 -0.22323202\n",
      "  0.46552718  0.07121982 -0.01904635  0.18692793 -0.05782707  0.27683285\n",
      "  0.00816723 -0.7131493   0.00627891  0.25098878]\n"
     ]
    }
   ],
   "execution_count": 54
  },
  {
   "metadata": {},
   "cell_type": "markdown",
   "source": "We can also find the most similar words to \"bed\" using the Word2Vec model.",
   "id": "993ab7ce1cc44b02"
  },
  {
   "metadata": {
    "ExecuteTime": {
     "end_time": "2025-07-11T04:48:33.952990Z",
     "start_time": "2025-07-11T04:48:33.940657Z"
    }
   },
   "cell_type": "code",
   "source": [
    "similar_words = w2v_model.wv.most_similar('bed')\n",
    "print(f\"Most similar words to 'bed': {similar_words}\")"
   ],
   "id": "66b72ff2d3f9081b",
   "outputs": [
    {
     "name": "stdout",
     "output_type": "stream",
     "text": [
      "Most similar words to 'bed': [('bathroom', 0.7106977701187134), ('deet', 0.6923396587371826), ('drenching', 0.6879812479019165), ('hacking', 0.6844325661659241), ('barren', 0.6829866766929626), ('ragged', 0.6811744570732117), ('partially', 0.679260790348053), ('squeezed', 0.6706869602203369), ('classed', 0.6693724393844604), ('hte', 0.6689077019691467)]\n"
     ]
    }
   ],
   "execution_count": 55
  },
  {
   "metadata": {},
   "cell_type": "markdown",
   "source": "We can also perform analogy tasks using the Word2Vec model. For example, we can find a word that is to \"colombo\" as \"galle\" is to \"city\".",
   "id": "3e66f13a3a5a5c18"
  },
  {
   "metadata": {
    "ExecuteTime": {
     "end_time": "2025-07-11T04:48:38.339283Z",
     "start_time": "2025-07-11T04:48:38.328913Z"
    }
   },
   "cell_type": "code",
   "source": [
    "analogy_result = w2v_model.wv.most_similar(positive=['colombo', 'galle'], negative=['city'], topn=1)\n",
    "print(f\"Analogy result for 'colombo' - 'city' + 'galle': {analogy_result}\")"
   ],
   "id": "ab980ade5666e480",
   "outputs": [
    {
     "name": "stdout",
     "output_type": "stream",
     "text": [
      "Analogy result for 'colombo' - 'city' + 'galle': [('fort', 0.5598229765892029)]\n"
     ]
    }
   ],
   "execution_count": 56
  },
  {
   "metadata": {},
   "cell_type": "markdown",
   "source": "Here, we can see that the model determines that Colombo - City + Galle = Fort. Which makes intuitive sense. ",
   "id": "469b0302183c6a3"
  },
  {
   "metadata": {},
   "cell_type": "markdown",
   "source": "We can also perform other analogy tasks, such as finding a word that is to \"bed\" as \"internet\" is to \"sleep\".",
   "id": "e95af2278441f3d5"
  },
  {
   "metadata": {
    "ExecuteTime": {
     "end_time": "2025-07-11T05:28:17.264548Z",
     "start_time": "2025-07-11T05:28:17.238812Z"
    }
   },
   "cell_type": "code",
   "source": [
    "analogy_result = w2v_model.wv.most_similar(positive=['bed', 'internet'], negative=['sleep'], topn=1)\n",
    "print(f\"Analogy result for 'bed' - 'sleep' + 'internet': {analogy_result}\")"
   ],
   "id": "28d8eb944669afc6",
   "outputs": [
    {
     "name": "stdout",
     "output_type": "stream",
     "text": [
      "Analogy result for 'bed' - 'sleep' + 'internet': [('connection', 0.5347010493278503)]\n"
     ]
    }
   ],
   "execution_count": 115
  },
  {
   "metadata": {},
   "cell_type": "markdown",
   "source": "Here, it determined that Bed - Sleep + Internet = Connection. Which also makes sense.",
   "id": "13ce78ecbd2b934b"
  },
  {
   "metadata": {},
   "cell_type": "markdown",
   "source": "Let's check another analogy task, such as finding a word that is to \"bed\" as \"water\" is to \"pillow\".",
   "id": "7cf118a9f9407852"
  },
  {
   "metadata": {
    "ExecuteTime": {
     "end_time": "2025-07-11T04:48:44.057903Z",
     "start_time": "2025-07-11T04:48:44.049415Z"
    }
   },
   "cell_type": "code",
   "source": [
    "analogy_result = w2v_model.wv.most_similar(positive=['bed', 'water'], negative=['pillow'], topn=1)\n",
    "print(f\"Analogy result for 'bed' - 'pillow' + 'water': {analogy_result}\")"
   ],
   "id": "d3fd17333d4d6398",
   "outputs": [
    {
     "name": "stdout",
     "output_type": "stream",
     "text": [
      "Analogy result for 'bed' - 'pillow' + 'water': [('hot', 0.5803027153015137)]\n"
     ]
    }
   ],
   "execution_count": 58
  },
  {
   "metadata": {},
   "cell_type": "markdown",
   "source": "Here, it determined that Bed - Pillow + Water = Hot. This is unexpected, and highlights the limitations of the model in understanding certain relationships.",
   "id": "157710c63bdb227c"
  },
  {
   "metadata": {},
   "cell_type": "markdown",
   "source": "We can also check for some common relationships, but those which might not be present in the dataset.",
   "id": "8aceb38f44fb1a48"
  },
  {
   "metadata": {
    "ExecuteTime": {
     "end_time": "2025-07-11T05:06:21.928728Z",
     "start_time": "2025-07-11T05:06:21.899066Z"
    }
   },
   "cell_type": "code",
   "source": [
    "result = w2v_model.wv.most_similar(positive=['king', 'woman'], negative=['man'], topn=1)\n",
    "print(f\"Analogy result for 'king' - 'man' + 'woman': {result}\")"
   ],
   "id": "9dfcd5cc9ba0fddc",
   "outputs": [
    {
     "name": "stdout",
     "output_type": "stream",
     "text": [
      "Analogy result for 'king' - 'man' + 'woman': [('tomato', 0.6332396864891052)]\n"
     ]
    }
   ],
   "execution_count": 92
  },
  {
   "metadata": {},
   "cell_type": "markdown",
   "source": "Here, we see that the model struggles to come up with a meaningful analogy for this relationship, which highlights the limitations of the dataset to generalize.",
   "id": "b314056fa78db642"
  },
  {
   "metadata": {},
   "cell_type": "markdown",
   "source": "Finally, we can vectorize the reviews using the Word2Vec model by averaging the word vectors for each review.",
   "id": "2b2f2872498ed619"
  },
  {
   "metadata": {
    "ExecuteTime": {
     "end_time": "2025-07-11T06:06:10.388093Z",
     "start_time": "2025-07-11T06:06:08.179032Z"
    }
   },
   "cell_type": "code",
   "source": [
    "def get_review_vector(review, model):\n",
    "    tokens = word_tokenize(review.lower())\n",
    "    vector = sum(model.wv[token] for token in tokens if token in model.wv) / len(tokens)\n",
    "    return vector\n",
    "\n",
    "w2v_review_vectors = reviews['review'].apply(lambda x: get_review_vector(x, w2v_model))\n",
    "w2v_review_vectors = np.vstack(w2v_review_vectors.values)\n",
    "w2v_review_vectors = pd.DataFrame(w2v_review_vectors)\n",
    "print(f\"Shape of the Word2Vec review vectors: {w2v_review_vectors.shape}\")"
   ],
   "id": "f7e4b121d99a1a8c",
   "outputs": [
    {
     "name": "stdout",
     "output_type": "stream",
     "text": [
      "Shape of the Word2Vec review vectors: (5186, 500)\n"
     ]
    }
   ],
   "execution_count": 118
  },
  {
   "metadata": {},
   "cell_type": "markdown",
   "source": "We can see that the dataset now consists of 5186 reviews, and each review is represented by a 500-dimensional vector. We can even print the first review vector to see how it looks.",
   "id": "2e966ea9dd62f86f"
  },
  {
   "metadata": {
    "ExecuteTime": {
     "end_time": "2025-07-11T06:06:27.828498Z",
     "start_time": "2025-07-11T06:06:27.817933Z"
    }
   },
   "cell_type": "code",
   "source": "print(w2v_review_vectors[0])",
   "id": "e941969a260db86",
   "outputs": [
    {
     "name": "stdout",
     "output_type": "stream",
     "text": [
      "0       0.059414\n",
      "1      -0.000099\n",
      "2      -0.005535\n",
      "3       0.031925\n",
      "4       0.021695\n",
      "          ...   \n",
      "5181    0.040219\n",
      "5182    0.010806\n",
      "5183   -0.013544\n",
      "5184    0.013583\n",
      "5185   -0.008888\n",
      "Name: 0, Length: 5186, dtype: float32\n"
     ]
    }
   ],
   "execution_count": 119
  },
  {
   "metadata": {},
   "cell_type": "markdown",
   "source": "### 3.4. GloVe",
   "id": "c49eb42ce3181f85"
  },
  {
   "metadata": {},
   "cell_type": "markdown",
   "source": "Here, we will use the GloVe model to create word embeddings for the reviews.",
   "id": "d6ed4d773bc5b2dd"
  },
  {
   "metadata": {
    "ExecuteTime": {
     "end_time": "2025-07-11T05:02:55.901640Z",
     "start_time": "2025-07-11T05:02:09.202363Z"
    }
   },
   "cell_type": "code",
   "source": "glove_model = api.load('glove-wiki-gigaword-100')",
   "id": "c365c85bf368dca4",
   "outputs": [],
   "execution_count": 79
  },
  {
   "metadata": {
    "ExecuteTime": {
     "end_time": "2025-07-11T05:02:55.917735Z",
     "start_time": "2025-07-11T05:02:55.911127Z"
    }
   },
   "cell_type": "code",
   "source": "print(f\"Shape of the GloVe model: {glove_model.vectors.shape}\")",
   "id": "72ba43c23b425163",
   "outputs": [
    {
     "name": "stdout",
     "output_type": "stream",
     "text": [
      "Shape of the GloVe model: (400000, 100)\n"
     ]
    }
   ],
   "execution_count": 80
  },
  {
   "metadata": {},
   "cell_type": "markdown",
   "source": "We can see that the GloVe model has a shape of (400000, 100), meaning there are 400,000 unique words in the vocabulary, and each word is represented by a 100-dimensional vector.",
   "id": "428214d44e3a56e7"
  },
  {
   "metadata": {},
   "cell_type": "markdown",
   "source": "We can check the vector value for a specific word, such as \"bed\".",
   "id": "b2e58fb6e9344e39"
  },
  {
   "metadata": {
    "ExecuteTime": {
     "end_time": "2025-07-11T05:03:25.082512Z",
     "start_time": "2025-07-11T05:03:25.074566Z"
    }
   },
   "cell_type": "code",
   "source": [
    "bed_vector_glove = glove_model['bed']\n",
    "print(f\"Vector for 'bed' in GloVe: {bed_vector_glove}\")"
   ],
   "id": "854875cb035c9056",
   "outputs": [
    {
     "name": "stdout",
     "output_type": "stream",
     "text": [
      "Vector for 'bed' in GloVe: [-0.83528    0.57023    0.19219   -0.025946  -0.50039    0.36531\n",
      "  0.16811    0.98349   -0.16987   -0.40123    0.82593    0.77665\n",
      "  0.30743    1.1451     1.0567    -0.46868   -0.48286   -0.26397\n",
      " -0.14814   -0.82403   -0.31156    0.56133   -0.12384   -0.054355\n",
      "  0.42796    0.38446   -0.38117   -0.53408   -0.34122    0.15891\n",
      "  0.30952   -0.16873    0.36541    0.035137  -0.0095616  0.79946\n",
      " -0.50871   -0.031998   0.95187   -0.56081    0.23932    0.014487\n",
      " -0.15236   -0.73492   -0.24992    0.36617   -1.2171     0.42764\n",
      "  0.47683   -0.28761   -0.46801   -0.44108    0.641      1.0611\n",
      " -0.14081   -1.885     -0.20596   -0.087876   1.2402     0.13708\n",
      "  0.40899    0.5898    -0.14214   -0.13007    0.31583    0.60933\n",
      "  1.0137    -0.31204   -0.34454   -0.45771   -0.26633    0.067238\n",
      "  0.6028    -0.21555    0.27647    0.51912    0.33038   -0.1537\n",
      "  0.36153    0.14506    0.021452   0.71533    0.33153    0.32344\n",
      " -0.41465   -0.45996    0.2721    -0.37398   -0.8419     0.42759\n",
      "  0.44187   -0.68238    0.81183   -0.16322   -0.060373   0.1544\n",
      "  0.025293  -0.25826    1.1413    -0.20566  ]\n"
     ]
    }
   ],
   "execution_count": 81
  },
  {
   "metadata": {},
   "cell_type": "markdown",
   "source": "We can also find the most similar words to \"bed\" using the GloVe model.",
   "id": "c46f4e46c953c31d"
  },
  {
   "metadata": {
    "ExecuteTime": {
     "end_time": "2025-07-11T05:03:27.161483Z",
     "start_time": "2025-07-11T05:03:27.047825Z"
    }
   },
   "cell_type": "code",
   "source": [
    "similar_words_glove = glove_model.most_similar('bed', topn=5)\n",
    "print(f\"Most similar words to 'bed' in GloVe: {similar_words_glove}\")"
   ],
   "id": "3215fcb551809274",
   "outputs": [
    {
     "name": "stdout",
     "output_type": "stream",
     "text": [
      "Most similar words to 'bed' in GloVe: [('beds', 0.7630817890167236), ('sleeping', 0.7616754770278931), ('room', 0.7250887155532837), ('bedroom', 0.6915374994277954), ('mattress', 0.6799734830856323)]\n"
     ]
    }
   ],
   "execution_count": 82
  },
  {
   "metadata": {},
   "cell_type": "markdown",
   "source": "Similar to before, we can perform analogy tasks using the GloVe model. For example, we can find a word that is to \"colombo\" as \"galle\" is to \"city\".",
   "id": "6efc6e808b1d65ed"
  },
  {
   "metadata": {
    "ExecuteTime": {
     "end_time": "2025-07-11T05:03:43.164348Z",
     "start_time": "2025-07-11T05:03:43.140571Z"
    }
   },
   "cell_type": "code",
   "source": [
    "result = glove_model.most_similar(positive=['colombo', 'galle'], negative=['city'], topn=1)\n",
    "print(f\"Analogy result for 'colombo' - 'city' + 'galle' in GloVe: {result}\")"
   ],
   "id": "fb90ce337d2f7c0b",
   "outputs": [
    {
     "name": "stdout",
     "output_type": "stream",
     "text": [
      "Analogy result for 'colombo' - 'city' + 'galle' in GloVe: [('kandy', 0.5980703830718994)]\n"
     ]
    }
   ],
   "execution_count": 85
  },
  {
   "metadata": {},
   "cell_type": "markdown",
   "source": "Here, we see that the model determines that Colombo - City + Galle = Kandy, which doesn't make much sense, but highlights the limitations of the model in specializing to specific domains.",
   "id": "4b8c02249635134e"
  },
  {
   "metadata": {
    "ExecuteTime": {
     "end_time": "2025-07-11T05:04:00.334935Z",
     "start_time": "2025-07-11T05:04:00.303154Z"
    }
   },
   "cell_type": "code",
   "source": [
    "result = glove_model.most_similar(positive=['bed', 'internet'], negative=['sleep'], topn=1)\n",
    "print(f\"Analogy result for 'bed' - 'sleep' + 'internet' in GloVe: {result}\")"
   ],
   "id": "698c26d7d05f03de",
   "outputs": [
    {
     "name": "stdout",
     "output_type": "stream",
     "text": [
      "Analogy result for 'bed' - 'sleep' + 'internet' in GloVe: [('web', 0.7473989725112915)]\n"
     ]
    }
   ],
   "execution_count": 86
  },
  {
   "metadata": {},
   "cell_type": "markdown",
   "source": "However for more generic relationships, the model performs better. For example, it determines that Bed - Sleep + Internet = Web, which makes sense.",
   "id": "c504ac619903c5e2"
  },
  {
   "metadata": {
    "ExecuteTime": {
     "end_time": "2025-07-11T05:05:16.739278Z",
     "start_time": "2025-07-11T05:05:16.713569Z"
    }
   },
   "cell_type": "code",
   "source": [
    "result = glove_model.most_similar(positive=['bed', 'water'], negative=['pillow'], topn=1)\n",
    "print(f\"Analogy result for 'bed' - 'pillow' + 'water' in GloVe: {result}\")"
   ],
   "id": "323a41ad00474ba2",
   "outputs": [
    {
     "name": "stdout",
     "output_type": "stream",
     "text": [
      "Analogy result for 'bed' - 'pillow' + 'water' in GloVe: [('electricity', 0.651475727558136)]\n"
     ]
    }
   ],
   "execution_count": 89
  },
  {
   "metadata": {},
   "cell_type": "markdown",
   "source": "Here it determined that Bed - Pillow + Water = Electricity, which is similar to the Word2Vec model, but again highlights the limitations of the model in understanding certain relationships.",
   "id": "d663a5a323b4780c"
  },
  {
   "metadata": {
    "ExecuteTime": {
     "end_time": "2025-07-11T05:06:52.131207Z",
     "start_time": "2025-07-11T05:06:52.107751Z"
    }
   },
   "cell_type": "code",
   "source": [
    "result = glove_model.most_similar(positive=['king', 'woman'], negative=['man'], topn=1)\n",
    "print(f\"Analogy result for 'king' - 'man' + 'woman' in GloVe: {result}\")"
   ],
   "id": "e68b0ec0836877a7",
   "outputs": [
    {
     "name": "stdout",
     "output_type": "stream",
     "text": [
      "Analogy result for 'king' - 'man' + 'woman' in GloVe: [('queen', 0.7698540091514587)]\n"
     ]
    }
   ],
   "execution_count": 94
  },
  {
   "metadata": {},
   "cell_type": "markdown",
   "source": "However, this model does perform very well on generic relationships, such as the one above.",
   "id": "7eabdac697225884"
  },
  {
   "metadata": {},
   "cell_type": "markdown",
   "source": "Finally, we can vectorize the reviews using the GloVe model by averaging the word vectors for each review.",
   "id": "533b4e0b6063047d"
  },
  {
   "metadata": {
    "ExecuteTime": {
     "end_time": "2025-07-11T06:07:06.536265Z",
     "start_time": "2025-07-11T06:07:03.576214Z"
    }
   },
   "cell_type": "code",
   "source": [
    "def get_glove_review_vector(review, model):\n",
    "    tokens = word_tokenize(review.lower())\n",
    "    vector = sum(model[token] for token in tokens if token in model) / len(tokens)\n",
    "    return vector\n",
    "\n",
    "glove_review_vectors = reviews['review'].apply(lambda x: get_glove_review_vector(x, glove_model))\n",
    "glove_review_vectors = np.vstack(glove_review_vectors.values)\n",
    "glove_review_vectors = pd.DataFrame(glove_review_vectors)"
   ],
   "id": "b3b512bc7e504290",
   "outputs": [],
   "execution_count": 120
  },
  {
   "metadata": {
    "ExecuteTime": {
     "end_time": "2025-07-11T06:07:08.694414Z",
     "start_time": "2025-07-11T06:07:08.686728Z"
    }
   },
   "cell_type": "code",
   "source": "print(glove_review_vectors[0])",
   "id": "d3bc900c5359fd1c",
   "outputs": [
    {
     "name": "stdout",
     "output_type": "stream",
     "text": [
      "0      -0.188056\n",
      "1      -0.172444\n",
      "2      -0.217831\n",
      "3      -0.092853\n",
      "4      -0.272053\n",
      "          ...   \n",
      "5181   -0.101548\n",
      "5182   -0.089383\n",
      "5183   -0.112040\n",
      "5184   -0.133328\n",
      "5185   -0.156379\n",
      "Name: 0, Length: 5186, dtype: float32\n"
     ]
    }
   ],
   "execution_count": 121
  },
  {
   "metadata": {
    "ExecuteTime": {
     "end_time": "2025-07-11T06:07:10.425055Z",
     "start_time": "2025-07-11T06:07:10.418066Z"
    }
   },
   "cell_type": "code",
   "source": "print(f\"Shape of the GloVe review vectors: {glove_review_vectors.shape}\")",
   "id": "2f0976dbc0bece7c",
   "outputs": [
    {
     "name": "stdout",
     "output_type": "stream",
     "text": [
      "Shape of the GloVe review vectors: (5186, 100)\n"
     ]
    }
   ],
   "execution_count": 122
  },
  {
   "metadata": {},
   "cell_type": "markdown",
   "source": "Here, we can see that the dataset now consists of 5186 reviews, and each review is represented by a 100-dimensional vector. We can even print the first review vector to see how it looks.",
   "id": "521c8b21b23cebb8"
  },
  {
   "metadata": {},
   "cell_type": "markdown",
   "source": "Finally, we can save all the feature matrices to CSV files for further use.",
   "id": "6199165f90522f88"
  },
  {
   "metadata": {
    "ExecuteTime": {
     "end_time": "2025-07-11T06:07:13.736385Z",
     "start_time": "2025-07-11T06:07:13.662540Z"
    }
   },
   "cell_type": "code",
   "source": [
    "feature_matrices = {\n",
    "    'bow': bow_matrix,\n",
    "    'tfidf': tfidf_matrix_df,\n",
    "    'word2vec': w2v_review_vectors,\n",
    "    'glove': glove_review_vectors\n",
    "}"
   ],
   "id": "ab0ebccd6cc438e9",
   "outputs": [],
   "execution_count": 123
  },
  {
   "metadata": {
    "ExecuteTime": {
     "end_time": "2025-07-11T06:09:18.967548Z",
     "start_time": "2025-07-11T06:07:15.701680Z"
    }
   },
   "cell_type": "code",
   "source": [
    "for name, matrix in feature_matrices.items():\n",
    "    print(f\"Saving {name} feature matrix...\")\n",
    "    matrix.to_csv(f\"feature_matrix_{name}.csv\", index=False)"
   ],
   "id": "59e6f466cba38285",
   "outputs": [
    {
     "name": "stdout",
     "output_type": "stream",
     "text": [
      "Saving bow feature matrix.\n",
      "Saving tfidf feature matrix.\n",
      "Saving word2vec feature matrix.\n",
      "Saving glove feature matrix.\n"
     ]
    }
   ],
   "execution_count": 124
  }
 ],
 "metadata": {
  "kernelspec": {
   "display_name": "Python 3",
   "language": "python",
   "name": "python3"
  },
  "language_info": {
   "codemirror_mode": {
    "name": "ipython",
    "version": 2
   },
   "file_extension": ".py",
   "mimetype": "text/x-python",
   "name": "python",
   "nbconvert_exporter": "python",
   "pygments_lexer": "ipython2",
   "version": "2.7.6"
  }
 },
 "nbformat": 4,
 "nbformat_minor": 5
}
